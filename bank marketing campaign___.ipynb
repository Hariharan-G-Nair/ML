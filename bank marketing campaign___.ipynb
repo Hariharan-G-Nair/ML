{
 "cells": [
  {
   "cell_type": "markdown",
   "id": "0a9cd490-a439-4c6a-b773-ae1e929a6ba6",
   "metadata": {},
   "source": [
    "# Bank marketing campaign EDA and Model Building"
   ]
  },
  {
   "cell_type": "markdown",
   "id": "74a530fc-c2a5-48cb-9556-dc6380f39466",
   "metadata": {},
   "source": [
    "## Introduction:\n",
    " The aim of this project is to analyze and model a bank's marketing campaign data to predict whether a client will subscribe to a term deposit. This involves Exploratory Data Analysis (EDA) to gain insights into the dataset and model building using Python libraries such as NumPy, Pandas, Matplotlib, and Seaborn. The Random Forest Classifier will be chosen as the final model after hyperparameter tuning to optimize its performance."
   ]
  },
  {
   "cell_type": "markdown",
   "id": "73fc1d53-ff45-4319-bb5e-933bfd1e5766",
   "metadata": {},
   "source": [
    "## Attributes Description:\n",
    "__Input variables:__\n",
    "\n",
    "### bank client data:\n",
    "1 - age: (numeric)\n",
    "\n",
    "2 - job: type of job (categorical: 'admin.','blue-collar','entrepreneur','housemaid','management','retired','self-employed','services','student','technician','unemployed','unknown')\n",
    "\n",
    "3 - marital: marital status (categorical: 'divorced','married','single','unknown'; note: 'divorced' means divorced or widowed)\n",
    "\n",
    "4 - education: (categorical: primary, secondary, tertiary and unknown)\n",
    "\n",
    "5 - default: has credit in default? (categorical: 'no','yes','unknown')\n",
    "\n",
    "6 - housing: has housing loan? (categorical: 'no','yes','unknown')\n",
    "\n",
    "7 - loan: has personal loan? (categorical: 'no','yes','unknown')\n",
    "\n",
    "8 - balance: Balance of the individual.\n",
    "\n",
    "### Related with the last contact of the current campaign:\n",
    "8 - contact: contact communication type (categorical: 'cellular','telephone')\n",
    "\n",
    "9 - month: last contact month of year (categorical: 'jan', 'feb', 'mar', ..., 'nov', 'dec')\n",
    "\n",
    "10 - day: last contact day of the week (categorical: 'mon','tue','wed','thu','fri')\n",
    "\n",
    "11 - duration: last contact duration, in seconds (numeric). Important note: this attribute highly affects the output target (e.g., if duration=0 then y='no'). Yet, the duration is not known before a call is performed. Also, after the end of the call y is obviously known. Thus, this input should only be included for benchmark purposes and should be discarded if the intention is to have a realistic predictive model.\n",
    "\n",
    "### other attributes:\n",
    "12 - campaign: number of contacts performed during this campaign and for this client (numeric, includes last contact)\n",
    "\n",
    "13 - pdays: number of days that passed by after the client was last contacted from a previous campaign (numeric; 999 means client was not previously contacted)\n",
    "\n",
    "14 - previous: number of contacts performed before this campaign and for this client (numeric)\n",
    "\n",
    "15 - poutcome: outcome of the previous marketing campaign (categorical: 'failure','nonexistent','success')\n",
    "\n",
    "### Output variable (desired target):\n",
    "21 - y - has the client subscribed a term deposit? (binary: 'yes','no')"
   ]
  },
  {
   "cell_type": "markdown",
   "id": "68649036-89ca-4130-a508-612c8c76ba6b",
   "metadata": {},
   "source": [
    "## Importing the necessary libriaries"
   ]
  },
  {
   "cell_type": "code",
   "execution_count": 37,
   "id": "c0575ec4-8690-4d4b-ae68-3b787de9e7bd",
   "metadata": {},
   "outputs": [],
   "source": [
    "import pandas as pd\n",
    "import numpy as np\n",
    "import matplotlib.pyplot as plt\n",
    "import seaborn as sns\n",
    "from sklearn.preprocessing import StandardScaler\n",
    "from sklearn.model_selection import train_test_split\n",
    "from imblearn.over_sampling import SMOTE\n",
    "from sklearn.metrics import accuracy_score\n",
    "from sklearn.linear_model import LogisticRegression\n",
    "from sklearn.metrics import classification_report\n",
    "from sklearn.linear_model import LinearRegression\n",
    "from sklearn.ensemble import RandomForestClassifier\n",
    "from sklearn.tree import DecisionTreeClassifier"
   ]
  },
  {
   "cell_type": "markdown",
   "id": "65b5c7e4-f464-45b0-b2fc-f6666e984f9e",
   "metadata": {},
   "source": [
    "## Reading the dataset"
   ]
  },
  {
   "cell_type": "code",
   "execution_count": 3,
   "id": "b435be7f-e1df-4431-aa8d-e96eab835385",
   "metadata": {},
   "outputs": [
    {
     "data": {
      "text/html": [
       "<div>\n",
       "<style scoped>\n",
       "    .dataframe tbody tr th:only-of-type {\n",
       "        vertical-align: middle;\n",
       "    }\n",
       "\n",
       "    .dataframe tbody tr th {\n",
       "        vertical-align: top;\n",
       "    }\n",
       "\n",
       "    .dataframe thead th {\n",
       "        text-align: right;\n",
       "    }\n",
       "</style>\n",
       "<table border=\"1\" class=\"dataframe\">\n",
       "  <thead>\n",
       "    <tr style=\"text-align: right;\">\n",
       "      <th></th>\n",
       "      <th>age</th>\n",
       "      <th>job</th>\n",
       "      <th>marital</th>\n",
       "      <th>education</th>\n",
       "      <th>default</th>\n",
       "      <th>housing</th>\n",
       "      <th>loan</th>\n",
       "      <th>contact</th>\n",
       "      <th>month</th>\n",
       "      <th>day_of_week</th>\n",
       "      <th>campaign</th>\n",
       "      <th>pdays</th>\n",
       "      <th>previous</th>\n",
       "      <th>poutcome</th>\n",
       "      <th>emp.var.rate</th>\n",
       "      <th>cons.price.idx</th>\n",
       "      <th>cons.conf.idx</th>\n",
       "      <th>euribor3m</th>\n",
       "      <th>nr.employed</th>\n",
       "      <th>y</th>\n",
       "    </tr>\n",
       "  </thead>\n",
       "  <tbody>\n",
       "    <tr>\n",
       "      <th>0</th>\n",
       "      <td>56</td>\n",
       "      <td>housemaid</td>\n",
       "      <td>married</td>\n",
       "      <td>basic.4y</td>\n",
       "      <td>no</td>\n",
       "      <td>no</td>\n",
       "      <td>no</td>\n",
       "      <td>telephone</td>\n",
       "      <td>may</td>\n",
       "      <td>mon</td>\n",
       "      <td>1</td>\n",
       "      <td>999</td>\n",
       "      <td>0</td>\n",
       "      <td>nonexistent</td>\n",
       "      <td>1.1</td>\n",
       "      <td>93.994</td>\n",
       "      <td>-36.4</td>\n",
       "      <td>4.857</td>\n",
       "      <td>5191.0</td>\n",
       "      <td>no</td>\n",
       "    </tr>\n",
       "    <tr>\n",
       "      <th>1</th>\n",
       "      <td>57</td>\n",
       "      <td>services</td>\n",
       "      <td>married</td>\n",
       "      <td>high.school</td>\n",
       "      <td>unknown</td>\n",
       "      <td>no</td>\n",
       "      <td>no</td>\n",
       "      <td>telephone</td>\n",
       "      <td>may</td>\n",
       "      <td>mon</td>\n",
       "      <td>1</td>\n",
       "      <td>999</td>\n",
       "      <td>0</td>\n",
       "      <td>nonexistent</td>\n",
       "      <td>1.1</td>\n",
       "      <td>93.994</td>\n",
       "      <td>-36.4</td>\n",
       "      <td>4.857</td>\n",
       "      <td>5191.0</td>\n",
       "      <td>no</td>\n",
       "    </tr>\n",
       "    <tr>\n",
       "      <th>2</th>\n",
       "      <td>37</td>\n",
       "      <td>services</td>\n",
       "      <td>married</td>\n",
       "      <td>high.school</td>\n",
       "      <td>no</td>\n",
       "      <td>yes</td>\n",
       "      <td>no</td>\n",
       "      <td>telephone</td>\n",
       "      <td>may</td>\n",
       "      <td>mon</td>\n",
       "      <td>1</td>\n",
       "      <td>999</td>\n",
       "      <td>0</td>\n",
       "      <td>nonexistent</td>\n",
       "      <td>1.1</td>\n",
       "      <td>93.994</td>\n",
       "      <td>-36.4</td>\n",
       "      <td>4.857</td>\n",
       "      <td>5191.0</td>\n",
       "      <td>no</td>\n",
       "    </tr>\n",
       "    <tr>\n",
       "      <th>3</th>\n",
       "      <td>40</td>\n",
       "      <td>admin.</td>\n",
       "      <td>married</td>\n",
       "      <td>basic.6y</td>\n",
       "      <td>no</td>\n",
       "      <td>no</td>\n",
       "      <td>no</td>\n",
       "      <td>telephone</td>\n",
       "      <td>may</td>\n",
       "      <td>mon</td>\n",
       "      <td>1</td>\n",
       "      <td>999</td>\n",
       "      <td>0</td>\n",
       "      <td>nonexistent</td>\n",
       "      <td>1.1</td>\n",
       "      <td>93.994</td>\n",
       "      <td>-36.4</td>\n",
       "      <td>4.857</td>\n",
       "      <td>5191.0</td>\n",
       "      <td>no</td>\n",
       "    </tr>\n",
       "    <tr>\n",
       "      <th>4</th>\n",
       "      <td>56</td>\n",
       "      <td>services</td>\n",
       "      <td>married</td>\n",
       "      <td>high.school</td>\n",
       "      <td>no</td>\n",
       "      <td>no</td>\n",
       "      <td>yes</td>\n",
       "      <td>telephone</td>\n",
       "      <td>may</td>\n",
       "      <td>mon</td>\n",
       "      <td>1</td>\n",
       "      <td>999</td>\n",
       "      <td>0</td>\n",
       "      <td>nonexistent</td>\n",
       "      <td>1.1</td>\n",
       "      <td>93.994</td>\n",
       "      <td>-36.4</td>\n",
       "      <td>4.857</td>\n",
       "      <td>5191.0</td>\n",
       "      <td>no</td>\n",
       "    </tr>\n",
       "  </tbody>\n",
       "</table>\n",
       "</div>"
      ],
      "text/plain": [
       "   age        job  marital    education  default housing loan    contact  \\\n",
       "0   56  housemaid  married     basic.4y       no      no   no  telephone   \n",
       "1   57   services  married  high.school  unknown      no   no  telephone   \n",
       "2   37   services  married  high.school       no     yes   no  telephone   \n",
       "3   40     admin.  married     basic.6y       no      no   no  telephone   \n",
       "4   56   services  married  high.school       no      no  yes  telephone   \n",
       "\n",
       "  month day_of_week  campaign  pdays  previous     poutcome  emp.var.rate  \\\n",
       "0   may         mon         1    999         0  nonexistent           1.1   \n",
       "1   may         mon         1    999         0  nonexistent           1.1   \n",
       "2   may         mon         1    999         0  nonexistent           1.1   \n",
       "3   may         mon         1    999         0  nonexistent           1.1   \n",
       "4   may         mon         1    999         0  nonexistent           1.1   \n",
       "\n",
       "   cons.price.idx  cons.conf.idx  euribor3m  nr.employed   y  \n",
       "0          93.994          -36.4      4.857       5191.0  no  \n",
       "1          93.994          -36.4      4.857       5191.0  no  \n",
       "2          93.994          -36.4      4.857       5191.0  no  \n",
       "3          93.994          -36.4      4.857       5191.0  no  \n",
       "4          93.994          -36.4      4.857       5191.0  no  "
      ]
     },
     "execution_count": 3,
     "metadata": {},
     "output_type": "execute_result"
    }
   ],
   "source": [
    "df=pd.read_csv(r\"C:\\Users\\HARIHARAN\\Downloads\\bank-direct-marketing-campaigns.csv\\bank-direct-marketing-campaigns.csv\")\n",
    "df.head()"
   ]
  },
  {
   "cell_type": "code",
   "execution_count": 18,
   "id": "b0930d6f-3d78-44d0-80a6-492f687b9923",
   "metadata": {},
   "outputs": [
    {
     "data": {
      "text/plain": [
       "(41188, 20)"
      ]
     },
     "execution_count": 18,
     "metadata": {},
     "output_type": "execute_result"
    }
   ],
   "source": [
    "#Checking the number of rows and columns of the dataset\n",
    "\n",
    "df.shape\n"
   ]
  },
  {
   "cell_type": "code",
   "execution_count": 6,
   "id": "5355e2bf-f1dd-46c5-be91-657a6c96a1ec",
   "metadata": {},
   "outputs": [
    {
     "data": {
      "text/html": [
       "<div>\n",
       "<style scoped>\n",
       "    .dataframe tbody tr th:only-of-type {\n",
       "        vertical-align: middle;\n",
       "    }\n",
       "\n",
       "    .dataframe tbody tr th {\n",
       "        vertical-align: top;\n",
       "    }\n",
       "\n",
       "    .dataframe thead th {\n",
       "        text-align: right;\n",
       "    }\n",
       "</style>\n",
       "<table border=\"1\" class=\"dataframe\">\n",
       "  <thead>\n",
       "    <tr style=\"text-align: right;\">\n",
       "      <th></th>\n",
       "      <th>age</th>\n",
       "      <th>campaign</th>\n",
       "      <th>pdays</th>\n",
       "      <th>previous</th>\n",
       "      <th>emp.var.rate</th>\n",
       "      <th>cons.price.idx</th>\n",
       "      <th>cons.conf.idx</th>\n",
       "      <th>euribor3m</th>\n",
       "      <th>nr.employed</th>\n",
       "    </tr>\n",
       "  </thead>\n",
       "  <tbody>\n",
       "    <tr>\n",
       "      <th>count</th>\n",
       "      <td>41188.00000</td>\n",
       "      <td>41188.000000</td>\n",
       "      <td>41188.000000</td>\n",
       "      <td>41188.000000</td>\n",
       "      <td>41188.000000</td>\n",
       "      <td>41188.000000</td>\n",
       "      <td>41188.000000</td>\n",
       "      <td>41188.000000</td>\n",
       "      <td>41188.000000</td>\n",
       "    </tr>\n",
       "    <tr>\n",
       "      <th>mean</th>\n",
       "      <td>40.02406</td>\n",
       "      <td>2.567593</td>\n",
       "      <td>962.475454</td>\n",
       "      <td>0.172963</td>\n",
       "      <td>0.081886</td>\n",
       "      <td>93.575664</td>\n",
       "      <td>-40.502600</td>\n",
       "      <td>3.621291</td>\n",
       "      <td>5167.035911</td>\n",
       "    </tr>\n",
       "    <tr>\n",
       "      <th>std</th>\n",
       "      <td>10.42125</td>\n",
       "      <td>2.770014</td>\n",
       "      <td>186.910907</td>\n",
       "      <td>0.494901</td>\n",
       "      <td>1.570960</td>\n",
       "      <td>0.578840</td>\n",
       "      <td>4.628198</td>\n",
       "      <td>1.734447</td>\n",
       "      <td>72.251528</td>\n",
       "    </tr>\n",
       "    <tr>\n",
       "      <th>min</th>\n",
       "      <td>17.00000</td>\n",
       "      <td>1.000000</td>\n",
       "      <td>0.000000</td>\n",
       "      <td>0.000000</td>\n",
       "      <td>-3.400000</td>\n",
       "      <td>92.201000</td>\n",
       "      <td>-50.800000</td>\n",
       "      <td>0.634000</td>\n",
       "      <td>4963.600000</td>\n",
       "    </tr>\n",
       "    <tr>\n",
       "      <th>25%</th>\n",
       "      <td>32.00000</td>\n",
       "      <td>1.000000</td>\n",
       "      <td>999.000000</td>\n",
       "      <td>0.000000</td>\n",
       "      <td>-1.800000</td>\n",
       "      <td>93.075000</td>\n",
       "      <td>-42.700000</td>\n",
       "      <td>1.344000</td>\n",
       "      <td>5099.100000</td>\n",
       "    </tr>\n",
       "    <tr>\n",
       "      <th>50%</th>\n",
       "      <td>38.00000</td>\n",
       "      <td>2.000000</td>\n",
       "      <td>999.000000</td>\n",
       "      <td>0.000000</td>\n",
       "      <td>1.100000</td>\n",
       "      <td>93.749000</td>\n",
       "      <td>-41.800000</td>\n",
       "      <td>4.857000</td>\n",
       "      <td>5191.000000</td>\n",
       "    </tr>\n",
       "    <tr>\n",
       "      <th>75%</th>\n",
       "      <td>47.00000</td>\n",
       "      <td>3.000000</td>\n",
       "      <td>999.000000</td>\n",
       "      <td>0.000000</td>\n",
       "      <td>1.400000</td>\n",
       "      <td>93.994000</td>\n",
       "      <td>-36.400000</td>\n",
       "      <td>4.961000</td>\n",
       "      <td>5228.100000</td>\n",
       "    </tr>\n",
       "    <tr>\n",
       "      <th>max</th>\n",
       "      <td>98.00000</td>\n",
       "      <td>56.000000</td>\n",
       "      <td>999.000000</td>\n",
       "      <td>7.000000</td>\n",
       "      <td>1.400000</td>\n",
       "      <td>94.767000</td>\n",
       "      <td>-26.900000</td>\n",
       "      <td>5.045000</td>\n",
       "      <td>5228.100000</td>\n",
       "    </tr>\n",
       "  </tbody>\n",
       "</table>\n",
       "</div>"
      ],
      "text/plain": [
       "               age      campaign         pdays      previous  emp.var.rate  \\\n",
       "count  41188.00000  41188.000000  41188.000000  41188.000000  41188.000000   \n",
       "mean      40.02406      2.567593    962.475454      0.172963      0.081886   \n",
       "std       10.42125      2.770014    186.910907      0.494901      1.570960   \n",
       "min       17.00000      1.000000      0.000000      0.000000     -3.400000   \n",
       "25%       32.00000      1.000000    999.000000      0.000000     -1.800000   \n",
       "50%       38.00000      2.000000    999.000000      0.000000      1.100000   \n",
       "75%       47.00000      3.000000    999.000000      0.000000      1.400000   \n",
       "max       98.00000     56.000000    999.000000      7.000000      1.400000   \n",
       "\n",
       "       cons.price.idx  cons.conf.idx     euribor3m   nr.employed  \n",
       "count    41188.000000   41188.000000  41188.000000  41188.000000  \n",
       "mean        93.575664     -40.502600      3.621291   5167.035911  \n",
       "std          0.578840       4.628198      1.734447     72.251528  \n",
       "min         92.201000     -50.800000      0.634000   4963.600000  \n",
       "25%         93.075000     -42.700000      1.344000   5099.100000  \n",
       "50%         93.749000     -41.800000      4.857000   5191.000000  \n",
       "75%         93.994000     -36.400000      4.961000   5228.100000  \n",
       "max         94.767000     -26.900000      5.045000   5228.100000  "
      ]
     },
     "execution_count": 6,
     "metadata": {},
     "output_type": "execute_result"
    }
   ],
   "source": [
    "#summarizinng the numerical columns of the dataset\n",
    "\n",
    "df.describe()"
   ]
  },
  {
   "cell_type": "code",
   "execution_count": 7,
   "id": "ddc4d26c-e805-4dd0-990b-5c74a5852d01",
   "metadata": {},
   "outputs": [
    {
     "data": {
      "text/html": [
       "<div>\n",
       "<style scoped>\n",
       "    .dataframe tbody tr th:only-of-type {\n",
       "        vertical-align: middle;\n",
       "    }\n",
       "\n",
       "    .dataframe tbody tr th {\n",
       "        vertical-align: top;\n",
       "    }\n",
       "\n",
       "    .dataframe thead th {\n",
       "        text-align: right;\n",
       "    }\n",
       "</style>\n",
       "<table border=\"1\" class=\"dataframe\">\n",
       "  <thead>\n",
       "    <tr style=\"text-align: right;\">\n",
       "      <th></th>\n",
       "      <th>job</th>\n",
       "      <th>marital</th>\n",
       "      <th>education</th>\n",
       "      <th>default</th>\n",
       "      <th>housing</th>\n",
       "      <th>loan</th>\n",
       "      <th>contact</th>\n",
       "      <th>month</th>\n",
       "      <th>day_of_week</th>\n",
       "      <th>poutcome</th>\n",
       "      <th>y</th>\n",
       "    </tr>\n",
       "  </thead>\n",
       "  <tbody>\n",
       "    <tr>\n",
       "      <th>count</th>\n",
       "      <td>41188</td>\n",
       "      <td>41188</td>\n",
       "      <td>41188</td>\n",
       "      <td>41188</td>\n",
       "      <td>41188</td>\n",
       "      <td>41188</td>\n",
       "      <td>41188</td>\n",
       "      <td>41188</td>\n",
       "      <td>41188</td>\n",
       "      <td>41188</td>\n",
       "      <td>41188</td>\n",
       "    </tr>\n",
       "    <tr>\n",
       "      <th>unique</th>\n",
       "      <td>12</td>\n",
       "      <td>4</td>\n",
       "      <td>8</td>\n",
       "      <td>3</td>\n",
       "      <td>3</td>\n",
       "      <td>3</td>\n",
       "      <td>2</td>\n",
       "      <td>10</td>\n",
       "      <td>5</td>\n",
       "      <td>3</td>\n",
       "      <td>2</td>\n",
       "    </tr>\n",
       "    <tr>\n",
       "      <th>top</th>\n",
       "      <td>admin.</td>\n",
       "      <td>married</td>\n",
       "      <td>university.degree</td>\n",
       "      <td>no</td>\n",
       "      <td>yes</td>\n",
       "      <td>no</td>\n",
       "      <td>cellular</td>\n",
       "      <td>may</td>\n",
       "      <td>thu</td>\n",
       "      <td>nonexistent</td>\n",
       "      <td>no</td>\n",
       "    </tr>\n",
       "    <tr>\n",
       "      <th>freq</th>\n",
       "      <td>10422</td>\n",
       "      <td>24928</td>\n",
       "      <td>12168</td>\n",
       "      <td>32588</td>\n",
       "      <td>21576</td>\n",
       "      <td>33950</td>\n",
       "      <td>26144</td>\n",
       "      <td>13769</td>\n",
       "      <td>8623</td>\n",
       "      <td>35563</td>\n",
       "      <td>36548</td>\n",
       "    </tr>\n",
       "  </tbody>\n",
       "</table>\n",
       "</div>"
      ],
      "text/plain": [
       "           job  marital          education default housing   loan   contact  \\\n",
       "count    41188    41188              41188   41188   41188  41188     41188   \n",
       "unique      12        4                  8       3       3      3         2   \n",
       "top     admin.  married  university.degree      no     yes     no  cellular   \n",
       "freq     10422    24928              12168   32588   21576  33950     26144   \n",
       "\n",
       "        month day_of_week     poutcome      y  \n",
       "count   41188       41188        41188  41188  \n",
       "unique     10           5            3      2  \n",
       "top       may         thu  nonexistent     no  \n",
       "freq    13769        8623        35563  36548  "
      ]
     },
     "execution_count": 7,
     "metadata": {},
     "output_type": "execute_result"
    }
   ],
   "source": [
    "#summarizing the catagorical columns of the dataset\n",
    "\n",
    "df.describe(include=object)"
   ]
  },
  {
   "cell_type": "code",
   "execution_count": 8,
   "id": "3803dcd9-4702-45df-a8b2-35ec9f02b427",
   "metadata": {},
   "outputs": [
    {
     "name": "stdout",
     "output_type": "stream",
     "text": [
      "<class 'pandas.core.frame.DataFrame'>\n",
      "RangeIndex: 41188 entries, 0 to 41187\n",
      "Data columns (total 20 columns):\n",
      " #   Column          Non-Null Count  Dtype  \n",
      "---  ------          --------------  -----  \n",
      " 0   age             41188 non-null  int64  \n",
      " 1   job             41188 non-null  object \n",
      " 2   marital         41188 non-null  object \n",
      " 3   education       41188 non-null  object \n",
      " 4   default         41188 non-null  object \n",
      " 5   housing         41188 non-null  object \n",
      " 6   loan            41188 non-null  object \n",
      " 7   contact         41188 non-null  object \n",
      " 8   month           41188 non-null  object \n",
      " 9   day_of_week     41188 non-null  object \n",
      " 10  campaign        41188 non-null  int64  \n",
      " 11  pdays           41188 non-null  int64  \n",
      " 12  previous        41188 non-null  int64  \n",
      " 13  poutcome        41188 non-null  object \n",
      " 14  emp.var.rate    41188 non-null  float64\n",
      " 15  cons.price.idx  41188 non-null  float64\n",
      " 16  cons.conf.idx   41188 non-null  float64\n",
      " 17  euribor3m       41188 non-null  float64\n",
      " 18  nr.employed     41188 non-null  float64\n",
      " 19  y               41188 non-null  object \n",
      "dtypes: float64(5), int64(4), object(11)\n",
      "memory usage: 6.3+ MB\n"
     ]
    }
   ],
   "source": [
    "#viewing the dataset information like null values and datatypes of each columns\n",
    "\n",
    "df.info()"
   ]
  },
  {
   "cell_type": "code",
   "execution_count": 9,
   "id": "6413f348-4c75-458b-a404-8ad28f0c574e",
   "metadata": {},
   "outputs": [
    {
     "data": {
      "text/plain": [
       "marital\n",
       "married     24928\n",
       "single      11568\n",
       "divorced     4612\n",
       "unknown        80\n",
       "Name: count, dtype: int64"
      ]
     },
     "execution_count": 9,
     "metadata": {},
     "output_type": "execute_result"
    }
   ],
   "source": [
    "#unique value counts of maritial column\n",
    "\n",
    "df.marital.value_counts()"
   ]
  },
  {
   "cell_type": "code",
   "execution_count": 10,
   "id": "653663bc-585b-40e9-9ac3-34512a46c8a3",
   "metadata": {},
   "outputs": [
    {
     "data": {
      "text/plain": [
       "job\n",
       "admin.           10422\n",
       "blue-collar       9254\n",
       "technician        6743\n",
       "services          3969\n",
       "management        2924\n",
       "retired           1720\n",
       "entrepreneur      1456\n",
       "self-employed     1421\n",
       "housemaid         1060\n",
       "unemployed        1014\n",
       "student            875\n",
       "unknown            330\n",
       "Name: count, dtype: int64"
      ]
     },
     "execution_count": 10,
     "metadata": {},
     "output_type": "execute_result"
    }
   ],
   "source": [
    "#unique value counts of job column\n",
    "\n",
    "df.job.value_counts()"
   ]
  },
  {
   "cell_type": "code",
   "execution_count": 11,
   "id": "09462875-7c05-4e94-9e94-2a91647bdb4f",
   "metadata": {},
   "outputs": [
    {
     "data": {
      "text/plain": [
       "education\n",
       "university.degree      12168\n",
       "high.school             9515\n",
       "basic.9y                6045\n",
       "professional.course     5243\n",
       "basic.4y                4176\n",
       "basic.6y                2292\n",
       "unknown                 1731\n",
       "illiterate                18\n",
       "Name: count, dtype: int64"
      ]
     },
     "execution_count": 11,
     "metadata": {},
     "output_type": "execute_result"
    }
   ],
   "source": [
    "#unique value counts of education column\n",
    "\n",
    "df.education.value_counts()"
   ]
  },
  {
   "cell_type": "code",
   "execution_count": 12,
   "id": "6713683a-c41c-4011-9b9e-2b3b781d242a",
   "metadata": {},
   "outputs": [
    {
     "data": {
      "text/plain": [
       "cons.price.idx\n",
       "93.994    7763\n",
       "93.918    6685\n",
       "92.893    5794\n",
       "93.444    5175\n",
       "94.465    4374\n",
       "93.200    3616\n",
       "93.075    2458\n",
       "92.201     770\n",
       "92.963     715\n",
       "92.431     447\n",
       "92.649     357\n",
       "94.215     311\n",
       "94.199     303\n",
       "92.843     282\n",
       "92.379     267\n",
       "93.369     264\n",
       "94.027     233\n",
       "94.055     229\n",
       "93.876     212\n",
       "94.601     204\n",
       "92.469     178\n",
       "93.749     174\n",
       "92.713     172\n",
       "94.767     128\n",
       "93.798      67\n",
       "92.756      10\n",
       "Name: count, dtype: int64"
      ]
     },
     "execution_count": 12,
     "metadata": {},
     "output_type": "execute_result"
    }
   ],
   "source": [
    "#unique value counts of cons.price.idx column\n",
    "\n",
    "df['cons.price.idx'].value_counts()"
   ]
  },
  {
   "cell_type": "markdown",
   "id": "c5ee4944-80e0-4189-9779-342acbcf437a",
   "metadata": {},
   "source": [
    "## Visualizations"
   ]
  },
  {
   "cell_type": "markdown",
   "id": "253653d8-ba47-49af-a69e-607d8649d7cd",
   "metadata": {},
   "source": [
    "### Distibution of people performing several jobs responding to the campaign"
   ]
  },
  {
   "cell_type": "code",
   "execution_count": 80,
   "id": "233f74c8-e20a-4c5d-8902-4e701576a17c",
   "metadata": {},
   "outputs": [
    {
     "data": {
      "text/plain": [
       "Text(0.5, 1.0, 'Distibution of people performing several jobs responding to the campaign')"
      ]
     },
     "execution_count": 80,
     "metadata": {},
     "output_type": "execute_result"
    },
    {
     "data": {
      "image/png": "[encoded data removed]",
      "text/plain": [
       "<Figure size 1000x600 with 1 Axes>"
      ]
     },
     "metadata": {},
     "output_type": "display_data"
    }
   ],
   "source": [
    "plt.figure(figsize=(10,6))\n",
    "sns.countplot(x=df[\"job\"],hue=df[\"y\"],data=df)\n",
    "plt.xticks(rotation=90)\n",
    "plt.title(\"Distibution of people performing several jobs responding to the campaign\")"
   ]
  },
  {
   "cell_type": "markdown",
   "id": "8fb454af-5915-4854-86cc-d46fa6865176",
   "metadata": {},
   "source": [
    "___From the graph,we can see that people working in administrative sectors are contacted the most but the response rate was greater for the retired individuals___"
   ]
  },
  {
   "cell_type": "markdown",
   "id": "64cdf646-9512-4936-ba18-5d2551121aee",
   "metadata": {},
   "source": [
    "### Distribution of different age groups where the campaign is performed"
   ]
  },
  {
   "cell_type": "code",
   "execution_count": 43,
   "id": "0314bba4-3961-49da-8856-2c3254109841",
   "metadata": {},
   "outputs": [
    {
     "data": {
      "image/png": "[encoded data removed]",
      "text/plain": [
       "<Figure size 1000x600 with 1 Axes>"
      ]
     },
     "metadata": {},
     "output_type": "display_data"
    }
   ],
   "source": [
    "plt.figure(figsize=(10, 6))\n",
    "sns.histplot(df['age'], bins=20, kde=True, color='blue')\n",
    "plt.title('Distribution of Age')\n",
    "plt.xlabel('Age')\n",
    "plt.ylabel('Count')\n",
    "plt.show()"
   ]
  },
  {
   "cell_type": "markdown",
   "id": "1c0303cd-3927-4541-a242-8a4abc67d78f",
   "metadata": {},
   "source": [
    "___According to the graph people who aged between 28-35 were contacted regarding the campaign___"
   ]
  },
  {
   "cell_type": "markdown",
   "id": "dd738c75-d291-4c70-afb7-3401b080f112",
   "metadata": {},
   "source": [
    "### Distibution of people with different educational qualifications responding to the campaign"
   ]
  },
  {
   "cell_type": "code",
   "execution_count": 79,
   "id": "f71b13f1-1cdc-4539-9297-de15e94064c3",
   "metadata": {},
   "outputs": [
    {
     "data": {
      "text/plain": [
       "Text(0.5, 1.0, 'Distibution of people with different educational qualifications responding to the campaign')"
      ]
     },
     "execution_count": 79,
     "metadata": {},
     "output_type": "execute_result"
    },
    {
     "data": {
      "image/png": "[encoded data removed]",
      "text/plain": [
       "<Figure size 1000x600 with 1 Axes>"
      ]
     },
     "metadata": {},
     "output_type": "display_data"
    }
   ],
   "source": [
    "plt.figure(figsize=(10,6))\n",
    "sns.countplot(x=df[\"education\"],hue=df[\"y\"],data=df)\n",
    "plt.xticks(rotation=90)\n",
    "plt.title(\"Distibution of people with different educational qualifications responding to the campaign\")"
   ]
  },
  {
   "cell_type": "markdown",
   "id": "e9ed61bd-b4a9-4a60-9187-2df20a899bf4",
   "metadata": {},
   "source": [
    "___The graph shows us that the people who were contacted the most was people with a university degree and illiterate people were contacted the very lest___"
   ]
  },
  {
   "cell_type": "markdown",
   "id": "7e0488bc-f403-4dfa-a980-981abd499b4b",
   "metadata": {},
   "source": [
    "### Distibution of people in different maritial status responding to the campaign"
   ]
  },
  {
   "cell_type": "code",
   "execution_count": 98,
   "id": "11bde607-4379-4280-be36-db4e3cad11ca",
   "metadata": {},
   "outputs": [
    {
     "data": {
      "text/plain": [
       "Text(0.5, 0, 'maritial status')"
      ]
     },
     "execution_count": 98,
     "metadata": {},
     "output_type": "execute_result"
    },
    {
     "data": {
      "image/png": "[encoded data removed]",
      "text/plain": [
       "<Figure size 1000x600 with 1 Axes>"
      ]
     },
     "metadata": {},
     "output_type": "display_data"
    }
   ],
   "source": [
    "plt.figure(figsize=(10,6))\n",
    "sns.countplot(x=df[\"marital\"],hue=df[\"y\"],data=df)\n",
    "plt.xticks(rotation=90)\n",
    "plt.title(\"Distibution of people in different maritial status responding to the campaign\")\n",
    "plt.xlabel(\"maritial status\")"
   ]
  },
  {
   "cell_type": "markdown",
   "id": "ca9c0c95-123c-49e5-a91e-ae0d76226f04",
   "metadata": {},
   "source": [
    "___Married individuals were contacted the most acccording to the graph but the response rate was shown to be higher in single individuals___"
   ]
  },
  {
   "cell_type": "markdown",
   "id": "7a12b118-417c-4c59-8f21-d23cf79c03fe",
   "metadata": {},
   "source": [
    "### People contacted in differnt workdays responding to the campaign"
   ]
  },
  {
   "cell_type": "code",
   "execution_count": 77,
   "id": "94609e01-b4b3-4d59-a5f9-4f6408241ca0",
   "metadata": {},
   "outputs": [
    {
     "data": {
      "text/plain": [
       "Text(0.5, 1.0, 'People contacted in differnt workdays responding to the campaign')"
      ]
     },
     "execution_count": 77,
     "metadata": {},
     "output_type": "execute_result"
    },
    {
     "data": {
      "image/png": "[encoded data removed]",
      "text/plain": [
       "<Figure size 1000x600 with 1 Axes>"
      ]
     },
     "metadata": {},
     "output_type": "display_data"
    }
   ],
   "source": [
    "plt.figure(figsize=(10,6))\n",
    "sns.countplot(x=df[\"day_of_week\"],hue=df[\"y\"],data=df)\n",
    "plt.xticks(rotation=90)\n",
    "plt.title(\"People contacted in differnt workdays responding to the campaign\")"
   ]
  },
  {
   "cell_type": "markdown",
   "id": "9ad507d7-9567-43bb-ad19-9050e0bf15b4",
   "metadata": {},
   "source": [
    "___more people were contacted on mondays and tuesdays but the response was seen to be the same in every weekday___"
   ]
  },
  {
   "cell_type": "markdown",
   "id": "fb0fa6d7-5cfe-4008-8d56-044be64cdaaa",
   "metadata": {},
   "source": [
    "### People contacted in differnt months responding to the campaign"
   ]
  },
  {
   "cell_type": "code",
   "execution_count": 81,
   "id": "4ae41623-3e09-4209-bd04-66c8de6104cf",
   "metadata": {},
   "outputs": [
    {
     "data": {
      "text/plain": [
       "Text(0.5, 1.0, 'People contacted in differnt months responding to the campaign')"
      ]
     },
     "execution_count": 81,
     "metadata": {},
     "output_type": "execute_result"
    },
    {
     "data": {
      "image/png": "[encoded data removed]",
      "text/plain": [
       "<Figure size 1000x600 with 1 Axes>"
      ]
     },
     "metadata": {},
     "output_type": "display_data"
    }
   ],
   "source": [
    "plt.figure(figsize=(10,6))\n",
    "sns.countplot(x=df[\"month\"],hue=df[\"y\"],data=df)\n",
    "plt.xticks(rotation=90)\n",
    "plt.title(\"People contacted in differnt months responding to the campaign\")"
   ]
  },
  {
   "cell_type": "markdown",
   "id": "85db5370-f4a9-401a-9cb0-7fb3270d4994",
   "metadata": {},
   "source": [
    "___More people were contacted in the month of may but the response rate was seen to be greater in the months of december and march eventhough less contact was taken place during those months___"
   ]
  },
  {
   "cell_type": "markdown",
   "id": "29f09522-c9a5-43c1-bb58-d4531f66bfc1",
   "metadata": {},
   "source": [
    "### People with housing loan responding to the campaign"
   ]
  },
  {
   "cell_type": "code",
   "execution_count": 97,
   "id": "645b865b-beb8-4793-a1da-cbbfe52f860f",
   "metadata": {},
   "outputs": [
    {
     "data": {
      "text/plain": [
       "Text(0.5, 0, 'people who have housing loan (yes/no/unknown')"
      ]
     },
     "execution_count": 97,
     "metadata": {},
     "output_type": "execute_result"
    },
    {
     "data": {
      "image/png": "[encoded data removed]",
      "text/plain": [
       "<Figure size 1000x600 with 1 Axes>"
      ]
     },
     "metadata": {},
     "output_type": "display_data"
    }
   ],
   "source": [
    "plt.figure(figsize=(10,6))\n",
    "sns.countplot(x=df[\"housing\"],hue=df[\"y\"],data=df)\n",
    "plt.xticks(rotation=90)\n",
    "plt.title(\"People with housing loan responding to the campaign\")\n",
    "plt.xlabel(\"people who have housing loan (yes/no/unknown\")"
   ]
  },
  {
   "cell_type": "markdown",
   "id": "46d413a2-29e9-42a1-a3bd-cd1e3b356e36",
   "metadata": {},
   "source": [
    "___People with active housing loans are contacted more___"
   ]
  },
  {
   "cell_type": "markdown",
   "id": "f271c35a-3ad9-4d3a-8a6c-6960c2195b33",
   "metadata": {},
   "source": [
    "### People with other loans responding to the campaign"
   ]
  },
  {
   "cell_type": "code",
   "execution_count": 95,
   "id": "91cac721-5c7a-45a5-b09e-2c1f26a9c71f",
   "metadata": {},
   "outputs": [
    {
     "data": {
      "text/plain": [
       "Text(0.5, 0, 'People who have other loans (yes/no/unknown)')"
      ]
     },
     "execution_count": 95,
     "metadata": {},
     "output_type": "execute_result"
    },
    {
     "data": {
      "image/png": "[encoded data removed]",
      "text/plain": [
       "<Figure size 1000x600 with 1 Axes>"
      ]
     },
     "metadata": {},
     "output_type": "display_data"
    }
   ],
   "source": [
    "plt.figure(figsize=(10,6))\n",
    "sns.countplot(x=df[\"loan\"],hue=df[\"y\"],data=df)\n",
    "plt.xticks(rotation=90)\n",
    "plt.title(\"People with other loans responding to the campaign\")\n",
    "plt.xlabel(\"People who have other loans (yes/no/unknown)\")"
   ]
  },
  {
   "cell_type": "markdown",
   "id": "6403b232-b302-45da-bd12-f5fa9e8aa57f",
   "metadata": {},
   "source": [
    "___Those people who are having no other loans are contacted more___"
   ]
  },
  {
   "cell_type": "markdown",
   "id": "3925490a-f486-49c6-b116-04c0e20f23cc",
   "metadata": {},
   "source": [
    "### People contacted through different mediums responding to the campaign"
   ]
  },
  {
   "cell_type": "code",
   "execution_count": 91,
   "id": "4029926d-d6de-47cf-b289-7a15b3d6dbeb",
   "metadata": {},
   "outputs": [
    {
     "data": {
      "text/plain": [
       "Text(0.5, 0, 'medium of contact')"
      ]
     },
     "execution_count": 91,
     "metadata": {},
     "output_type": "execute_result"
    },
    {
     "data": {
      "image/png": "[encoded data removed]",
      "text/plain": [
       "<Figure size 1000x600 with 1 Axes>"
      ]
     },
     "metadata": {},
     "output_type": "display_data"
    }
   ],
   "source": [
    "plt.figure(figsize=(10,6))\n",
    "sns.countplot(x=df[\"contact\"],hue=df[\"y\"],data=df)\n",
    "plt.xticks(rotation=90)\n",
    "plt.title(\"People contacted through different mediums responding to the campaign\")\n",
    "plt.xlabel(\"medium of contact\")"
   ]
  },
  {
   "cell_type": "markdown",
   "id": "f7f68771-c975-4b6a-8935-e893ccd17c25",
   "metadata": {},
   "source": [
    "___response rate have been seen bigger in people who were contacted through cell phones rather than telephones___"
   ]
  },
  {
   "cell_type": "markdown",
   "id": "1c0d860d-0c2e-4634-bb12-6f8892c78f09",
   "metadata": {},
   "source": [
    "### People who already have a credit card responding to the campaign"
   ]
  },
  {
   "cell_type": "code",
   "execution_count": 90,
   "id": "a2c29a3d-5e61-4ee4-95c3-ff7a8c7a44c1",
   "metadata": {},
   "outputs": [
    {
     "data": {
      "text/plain": [
       "Text(0.5, 0, 'People who have credit card (yes/no/unknown)')"
      ]
     },
     "execution_count": 90,
     "metadata": {},
     "output_type": "execute_result"
    },
    {
     "data": {
      "image/png": "[encoded data removed]",
      "text/plain": [
       "<Figure size 1000x600 with 1 Axes>"
      ]
     },
     "metadata": {},
     "output_type": "display_data"
    }
   ],
   "source": [
    "plt.figure(figsize=(10,6))\n",
    "sns.countplot(x=df[\"default\"],hue=df[\"y\"],data=df)\n",
    "plt.xticks(rotation=90)\n",
    "plt.title(\"People who already have a credit card responding to the campaign\")\n",
    "plt.xlabel(\"People who have credit card (yes/no/unknown)\")"
   ]
  },
  {
   "cell_type": "markdown",
   "id": "32855150-ed92-449b-aaef-765d5e64abd8",
   "metadata": {},
   "source": [
    "___Those people who didn't had a credit card were contacted more and they responded more___ "
   ]
  },
  {
   "cell_type": "markdown",
   "id": "81058a79-74c3-4ccc-95da-f16d9268854e",
   "metadata": {},
   "source": [
    "### People who were contacted several days responding to the campaign"
   ]
  },
  {
   "cell_type": "code",
   "execution_count": 88,
   "id": "518c8040-a026-4c04-949d-7cb91010a9e7",
   "metadata": {},
   "outputs": [
    {
     "data": {
      "text/plain": [
       "Text(0.5, 0, 'number of days contacted')"
      ]
     },
     "execution_count": 88,
     "metadata": {},
     "output_type": "execute_result"
    },
    {
     "data": {
      "image/png": "[encoded data removed]",
      "text/plain": [
       "<Figure size 1000x600 with 1 Axes>"
      ]
     },
     "metadata": {},
     "output_type": "display_data"
    }
   ],
   "source": [
    "plt.figure(figsize=(10,6))\n",
    "sns.countplot(x=df[\"campaign\"],hue=df[\"y\"],data=df)\n",
    "plt.xticks(rotation=90)\n",
    "plt.title(\"people who were contacted several days responding to the campaign\")\n",
    "plt.xlabel(\"number of days contacted\")"
   ]
  },
  {
   "cell_type": "markdown",
   "id": "915c8f44-8b9c-44e4-8d66-c4ff724a2747",
   "metadata": {},
   "source": [
    "___Most people were contacted just one day and the response is higer for people who were contacted a single day where as the respose rate keep declining as the pople were contacted more than one day___"
   ]
  },
  {
   "cell_type": "markdown",
   "id": "27b73d4d-a8c8-4d55-b544-3ea8f43bc78e",
   "metadata": {},
   "source": [
    "### Result of the campaign"
   ]
  },
  {
   "cell_type": "code",
   "execution_count": 44,
   "id": "7e380a0d-cfe7-45e1-9b27-7bd28792606f",
   "metadata": {},
   "outputs": [
    {
     "data": {
      "image/png": "[encoded data removed]",
      "text/plain": [
       "<Figure size 600x400 with 1 Axes>"
      ]
     },
     "metadata": {},
     "output_type": "display_data"
    }
   ],
   "source": [
    "plt.figure(figsize=(6, 4))\n",
    "sns.countplot(df['y'])\n",
    "plt.title('Subscription Status')\n",
    "plt.xlabel('Subscribed to Term Deposit')\n",
    "plt.ylabel('Count')\n",
    "plt.show()\n"
   ]
  },
  {
   "cell_type": "markdown",
   "id": "614a58e1-80a8-45a1-b005-1de136ae4879",
   "metadata": {},
   "source": [
    "## Finding and removing outliers using IQR method"
   ]
  },
  {
   "cell_type": "code",
   "execution_count": 4,
   "id": "aeb22953-36f0-4549-80a6-18dfca53b860",
   "metadata": {},
   "outputs": [
    {
     "data": {
      "text/plain": [
       "<Axes: ylabel='age'>"
      ]
     },
     "execution_count": 4,
     "metadata": {},
     "output_type": "execute_result"
    },
    {
     "data": {
      "image/png": "[encoded data removed]",
      "text/plain": [
       "<Figure size 640x480 with 1 Axes>"
      ]
     },
     "metadata": {},
     "output_type": "display_data"
    }
   ],
   "source": [
    "#plotting a box plot for the age column to find the number of outliers in that column\n",
    "\n",
    "sns.boxplot(df.age)"
   ]
  },
  {
   "cell_type": "code",
   "execution_count": 46,
   "id": "31f1b67b-a455-4781-9f2e-dfdf32db5c7d",
   "metadata": {},
   "outputs": [
    {
     "data": {
      "text/plain": [
       "campaign\n",
       "1     17642\n",
       "2     10570\n",
       "3      5341\n",
       "4      2651\n",
       "5      1599\n",
       "6       979\n",
       "7       629\n",
       "8       400\n",
       "9       283\n",
       "10      225\n",
       "11      177\n",
       "12      125\n",
       "13       92\n",
       "14       69\n",
       "17       58\n",
       "16       51\n",
       "15       51\n",
       "18       33\n",
       "20       30\n",
       "19       26\n",
       "21       24\n",
       "22       17\n",
       "23       16\n",
       "24       15\n",
       "27       11\n",
       "29       10\n",
       "28        8\n",
       "26        8\n",
       "25        8\n",
       "31        7\n",
       "30        7\n",
       "35        5\n",
       "32        4\n",
       "33        4\n",
       "34        3\n",
       "42        2\n",
       "40        2\n",
       "43        2\n",
       "56        1\n",
       "39        1\n",
       "41        1\n",
       "37        1\n",
       "Name: count, dtype: int64"
      ]
     },
     "execution_count": 46,
     "metadata": {},
     "output_type": "execute_result"
    }
   ],
   "source": [
    "df.campaign.value_counts()"
   ]
  },
  {
   "cell_type": "code",
   "execution_count": 12,
   "id": "2c0cc438-281e-4adb-a0d9-408a14f92a58",
   "metadata": {},
   "outputs": [
    {
     "data": {
      "text/plain": [
       "age\n",
       "31    1947\n",
       "32    1846\n",
       "33    1833\n",
       "36    1780\n",
       "35    1759\n",
       "      ... \n",
       "89       2\n",
       "91       2\n",
       "94       1\n",
       "87       1\n",
       "95       1\n",
       "Name: count, Length: 78, dtype: int64"
      ]
     },
     "execution_count": 12,
     "metadata": {},
     "output_type": "execute_result"
    }
   ],
   "source": [
    "df.age.value_counts()"
   ]
  },
  {
   "cell_type": "code",
   "execution_count": 5,
   "id": "6df455bc-a2e5-4722-9dd2-e7805a183809",
   "metadata": {},
   "outputs": [
    {
     "data": {
      "text/plain": [
       "32.0"
      ]
     },
     "execution_count": 5,
     "metadata": {},
     "output_type": "execute_result"
    }
   ],
   "source": [
    "#specifing the q1 value for age\n",
    "\n",
    "q1=df.age.quantile(0.25)\n",
    "q1"
   ]
  },
  {
   "cell_type": "code",
   "execution_count": 6,
   "id": "1a40cda8-0366-4ea7-8682-665f4fd25445",
   "metadata": {},
   "outputs": [
    {
     "data": {
      "text/plain": [
       "47.0"
      ]
     },
     "execution_count": 6,
     "metadata": {},
     "output_type": "execute_result"
    }
   ],
   "source": [
    "#specifing the q3 value for age\n",
    "\n",
    "\n",
    "q3=df.age.quantile(0.75)\n",
    "q3"
   ]
  },
  {
   "cell_type": "code",
   "execution_count": 7,
   "id": "db1f5571-7a29-4d69-9616-db0123d3c23c",
   "metadata": {},
   "outputs": [
    {
     "data": {
      "text/plain": [
       "15.0"
      ]
     },
     "execution_count": 7,
     "metadata": {},
     "output_type": "execute_result"
    }
   ],
   "source": [
    "#Equation for inter quarlile range\n",
    "\n",
    "IQR=q3-q1\n",
    "IQR"
   ]
  },
  {
   "cell_type": "code",
   "execution_count": 8,
   "id": "5f9dd359-1894-4147-b95d-0067e23b786a",
   "metadata": {},
   "outputs": [
    {
     "data": {
      "text/plain": [
       "(69.5, 9.5)"
      ]
     },
     "execution_count": 8,
     "metadata": {},
     "output_type": "execute_result"
    }
   ],
   "source": [
    "#specifing the upper and lower bounds\n",
    "\n",
    "upper=q3+1.5*IQR\n",
    "lower=q1-1.5*IQR\n",
    "upper,lower"
   ]
  },
  {
   "cell_type": "code",
   "execution_count": 9,
   "id": "c528a1d3-7b5e-4178-9db8-884feac25adc",
   "metadata": {},
   "outputs": [
    {
     "data": {
      "text/html": [
       "<div>\n",
       "<style scoped>\n",
       "    .dataframe tbody tr th:only-of-type {\n",
       "        vertical-align: middle;\n",
       "    }\n",
       "\n",
       "    .dataframe tbody tr th {\n",
       "        vertical-align: top;\n",
       "    }\n",
       "\n",
       "    .dataframe thead th {\n",
       "        text-align: right;\n",
       "    }\n",
       "</style>\n",
       "<table border=\"1\" class=\"dataframe\">\n",
       "  <thead>\n",
       "    <tr style=\"text-align: right;\">\n",
       "      <th></th>\n",
       "      <th>age</th>\n",
       "      <th>campaign</th>\n",
       "      <th>pdays</th>\n",
       "      <th>previous</th>\n",
       "      <th>emp.var.rate</th>\n",
       "      <th>cons.price.idx</th>\n",
       "      <th>cons.conf.idx</th>\n",
       "      <th>euribor3m</th>\n",
       "      <th>nr.employed</th>\n",
       "    </tr>\n",
       "  </thead>\n",
       "  <tbody>\n",
       "    <tr>\n",
       "      <th>count</th>\n",
       "      <td>40719.000000</td>\n",
       "      <td>40719.000000</td>\n",
       "      <td>40719.000000</td>\n",
       "      <td>40719.000000</td>\n",
       "      <td>40719.000000</td>\n",
       "      <td>40719.000000</td>\n",
       "      <td>40719.000000</td>\n",
       "      <td>40719.000000</td>\n",
       "      <td>40719.000000</td>\n",
       "    </tr>\n",
       "    <tr>\n",
       "      <th>mean</th>\n",
       "      <td>39.599008</td>\n",
       "      <td>2.574818</td>\n",
       "      <td>964.446033</td>\n",
       "      <td>0.167096</td>\n",
       "      <td>0.110067</td>\n",
       "      <td>93.580967</td>\n",
       "      <td>-40.549267</td>\n",
       "      <td>3.652601</td>\n",
       "      <td>5168.608770</td>\n",
       "    </tr>\n",
       "    <tr>\n",
       "      <th>std</th>\n",
       "      <td>9.674971</td>\n",
       "      <td>2.779474</td>\n",
       "      <td>181.982267</td>\n",
       "      <td>0.483559</td>\n",
       "      <td>1.555365</td>\n",
       "      <td>0.574207</td>\n",
       "      <td>4.568686</td>\n",
       "      <td>1.719296</td>\n",
       "      <td>71.008345</td>\n",
       "    </tr>\n",
       "    <tr>\n",
       "      <th>min</th>\n",
       "      <td>17.000000</td>\n",
       "      <td>1.000000</td>\n",
       "      <td>0.000000</td>\n",
       "      <td>0.000000</td>\n",
       "      <td>-3.400000</td>\n",
       "      <td>92.201000</td>\n",
       "      <td>-50.800000</td>\n",
       "      <td>0.634000</td>\n",
       "      <td>4963.600000</td>\n",
       "    </tr>\n",
       "    <tr>\n",
       "      <th>25%</th>\n",
       "      <td>32.000000</td>\n",
       "      <td>1.000000</td>\n",
       "      <td>999.000000</td>\n",
       "      <td>0.000000</td>\n",
       "      <td>-1.800000</td>\n",
       "      <td>93.075000</td>\n",
       "      <td>-42.700000</td>\n",
       "      <td>1.354000</td>\n",
       "      <td>5099.100000</td>\n",
       "    </tr>\n",
       "    <tr>\n",
       "      <th>50%</th>\n",
       "      <td>38.000000</td>\n",
       "      <td>2.000000</td>\n",
       "      <td>999.000000</td>\n",
       "      <td>0.000000</td>\n",
       "      <td>1.100000</td>\n",
       "      <td>93.798000</td>\n",
       "      <td>-41.800000</td>\n",
       "      <td>4.857000</td>\n",
       "      <td>5191.000000</td>\n",
       "    </tr>\n",
       "    <tr>\n",
       "      <th>75%</th>\n",
       "      <td>47.000000</td>\n",
       "      <td>3.000000</td>\n",
       "      <td>999.000000</td>\n",
       "      <td>0.000000</td>\n",
       "      <td>1.400000</td>\n",
       "      <td>93.994000</td>\n",
       "      <td>-36.400000</td>\n",
       "      <td>4.961000</td>\n",
       "      <td>5228.100000</td>\n",
       "    </tr>\n",
       "    <tr>\n",
       "      <th>max</th>\n",
       "      <td>69.000000</td>\n",
       "      <td>56.000000</td>\n",
       "      <td>999.000000</td>\n",
       "      <td>7.000000</td>\n",
       "      <td>1.400000</td>\n",
       "      <td>94.767000</td>\n",
       "      <td>-26.900000</td>\n",
       "      <td>5.045000</td>\n",
       "      <td>5228.100000</td>\n",
       "    </tr>\n",
       "  </tbody>\n",
       "</table>\n",
       "</div>"
      ],
      "text/plain": [
       "                age      campaign         pdays      previous  emp.var.rate  \\\n",
       "count  40719.000000  40719.000000  40719.000000  40719.000000  40719.000000   \n",
       "mean      39.599008      2.574818    964.446033      0.167096      0.110067   \n",
       "std        9.674971      2.779474    181.982267      0.483559      1.555365   \n",
       "min       17.000000      1.000000      0.000000      0.000000     -3.400000   \n",
       "25%       32.000000      1.000000    999.000000      0.000000     -1.800000   \n",
       "50%       38.000000      2.000000    999.000000      0.000000      1.100000   \n",
       "75%       47.000000      3.000000    999.000000      0.000000      1.400000   \n",
       "max       69.000000     56.000000    999.000000      7.000000      1.400000   \n",
       "\n",
       "       cons.price.idx  cons.conf.idx     euribor3m   nr.employed  \n",
       "count    40719.000000   40719.000000  40719.000000  40719.000000  \n",
       "mean        93.580967     -40.549267      3.652601   5168.608770  \n",
       "std          0.574207       4.568686      1.719296     71.008345  \n",
       "min         92.201000     -50.800000      0.634000   4963.600000  \n",
       "25%         93.075000     -42.700000      1.354000   5099.100000  \n",
       "50%         93.798000     -41.800000      4.857000   5191.000000  \n",
       "75%         93.994000     -36.400000      4.961000   5228.100000  \n",
       "max         94.767000     -26.900000      5.045000   5228.100000  "
      ]
     },
     "execution_count": 9,
     "metadata": {},
     "output_type": "execute_result"
    }
   ],
   "source": [
    "#removing the outliers on age column\n",
    "\n",
    "df1=df[(df[\"age\"]>=lower) & (df[\"age\"]<=upper)]\n",
    "df1.describe()"
   ]
  },
  {
   "cell_type": "code",
   "execution_count": 10,
   "id": "a5892f99-05d9-4dd6-94e8-b1bd59226707",
   "metadata": {},
   "outputs": [
    {
     "data": {
      "text/plain": [
       "(40719, 20)"
      ]
     },
     "execution_count": 10,
     "metadata": {},
     "output_type": "execute_result"
    }
   ],
   "source": [
    "df1.shape"
   ]
  },
  {
   "cell_type": "code",
   "execution_count": 54,
   "id": "e61e6ac2-94bb-453f-8cd4-5741ebffa272",
   "metadata": {},
   "outputs": [
    {
     "name": "stderr",
     "output_type": "stream",
     "text": [
      "C:\\Users\\HARIHARAN\\AppData\\Local\\Temp\\ipykernel_22828\\3787714650.py:1: UserWarning: \n",
      "\n",
      "`distplot` is a deprecated function and will be removed in seaborn v0.14.0.\n",
      "\n",
      "Please adapt your code to use either `displot` (a figure-level function with\n",
      "similar flexibility) or `histplot` (an axes-level function for histograms).\n",
      "\n",
      "For a guide to updating your code to use the new functions, please see\n",
      "https://gist.github.com/mwaskom/de44147ed2974457ad6372750bbe5751\n",
      "\n",
      "  sns.distplot(df1.age)\n"
     ]
    },
    {
     "data": {
      "text/plain": [
       "<Axes: xlabel='age', ylabel='Density'>"
      ]
     },
     "execution_count": 54,
     "metadata": {},
     "output_type": "execute_result"
    },
    {
     "data": {
      "image/png": "[encoded data removed]",
      "text/plain": [
       "<Figure size 640x480 with 1 Axes>"
      ]
     },
     "metadata": {},
     "output_type": "display_data"
    }
   ],
   "source": [
    "sns.distplot(df1.age)"
   ]
  },
  {
   "cell_type": "code",
   "execution_count": 22,
   "id": "fbf5d795-db1e-4146-82ff-ecfb2957671e",
   "metadata": {},
   "outputs": [
    {
     "data": {
      "text/plain": [
       "<Axes: ylabel='campaign'>"
      ]
     },
     "execution_count": 22,
     "metadata": {},
     "output_type": "execute_result"
    },
    {
     "data": {
      "image/png": "[encoded data removed]",
      "text/plain": [
       "<Figure size 640x480 with 1 Axes>"
      ]
     },
     "metadata": {},
     "output_type": "display_data"
    }
   ],
   "source": [
    "#plotting a box plot for the age column to find the number of outliers in that column\n",
    "\n",
    "\n",
    "sns.boxplot(df.campaign)\n"
   ]
  },
  {
   "cell_type": "code",
   "execution_count": 23,
   "id": "493684a4-3163-4d76-918c-7a15f5fa96ac",
   "metadata": {},
   "outputs": [
    {
     "name": "stderr",
     "output_type": "stream",
     "text": [
      "C:\\Users\\HARIHARAN\\AppData\\Local\\Temp\\ipykernel_56864\\1652604569.py:1: UserWarning: \n",
      "\n",
      "`distplot` is a deprecated function and will be removed in seaborn v0.14.0.\n",
      "\n",
      "Please adapt your code to use either `displot` (a figure-level function with\n",
      "similar flexibility) or `histplot` (an axes-level function for histograms).\n",
      "\n",
      "For a guide to updating your code to use the new functions, please see\n",
      "https://gist.github.com/mwaskom/de44147ed2974457ad6372750bbe5751\n",
      "\n",
      "  sns.distplot(df.campaign)\n"
     ]
    },
    {
     "data": {
      "text/plain": [
       "<Axes: xlabel='campaign', ylabel='Density'>"
      ]
     },
     "execution_count": 23,
     "metadata": {},
     "output_type": "execute_result"
    },
    {
     "data": {
      "image/png": "[encoded data removed]",
      "text/plain": [
       "<Figure size 640x480 with 1 Axes>"
      ]
     },
     "metadata": {},
     "output_type": "display_data"
    }
   ],
   "source": [
    "sns.distplot(df.campaign)"
   ]
  },
  {
   "cell_type": "code",
   "execution_count": 11,
   "id": "b455741a-4e30-4959-a128-2cc84938eaa8",
   "metadata": {},
   "outputs": [
    {
     "data": {
      "text/plain": [
       "skew    4.762507\n",
       "Name: campaign, dtype: float64"
      ]
     },
     "execution_count": 11,
     "metadata": {},
     "output_type": "execute_result"
    }
   ],
   "source": [
    "#finding the skewness of the campaign column\n",
    "\n",
    "df.campaign.agg([\"skew\"])"
   ]
  },
  {
   "cell_type": "code",
   "execution_count": 12,
   "id": "55f961d1-7f62-4597-86ea-7a1050627cbb",
   "metadata": {},
   "outputs": [
    {
     "data": {
      "text/plain": [
       "1.0"
      ]
     },
     "execution_count": 12,
     "metadata": {},
     "output_type": "execute_result"
    }
   ],
   "source": [
    "#specifing the q1 value for campaign column\n",
    "\n",
    "q11=df.campaign.quantile(0.25)\n",
    "q11\n"
   ]
  },
  {
   "cell_type": "code",
   "execution_count": 13,
   "id": "3b36cea4-96d1-45a9-9108-db06a357712a",
   "metadata": {},
   "outputs": [
    {
     "data": {
      "text/plain": [
       "3.0"
      ]
     },
     "execution_count": 13,
     "metadata": {},
     "output_type": "execute_result"
    }
   ],
   "source": [
    "#specifing the q3 value for campaign column\n",
    "\n",
    "q33=df.campaign.quantile(0.75)\n",
    "q33"
   ]
  },
  {
   "cell_type": "code",
   "execution_count": 14,
   "id": "edd0d201-d70b-4139-8fb9-7a7e370900fb",
   "metadata": {},
   "outputs": [
    {
     "data": {
      "text/plain": [
       "2.0"
      ]
     },
     "execution_count": 14,
     "metadata": {},
     "output_type": "execute_result"
    }
   ],
   "source": [
    "#Equation for inter quartile range for campaign column\n",
    "\n",
    "IQR1=q33-q11\n",
    "IQR1"
   ]
  },
  {
   "cell_type": "code",
   "execution_count": 15,
   "id": "30ee5af9-c8d1-4163-ad48-d259ea6c97a3",
   "metadata": {},
   "outputs": [
    {
     "data": {
      "text/plain": [
       "(6.0, -2.0)"
      ]
     },
     "execution_count": 15,
     "metadata": {},
     "output_type": "execute_result"
    }
   ],
   "source": [
    "#specifing the upper and lower bounds  value for campaign column\n",
    "\n",
    "lower1=q11-1.5*IQR1\n",
    "upper1=q33+1.5*IQR1\n",
    "upper1,lower1"
   ]
  },
  {
   "cell_type": "code",
   "execution_count": 16,
   "id": "e79a91cd-aa6e-4529-a018-c950485cb155",
   "metadata": {},
   "outputs": [
    {
     "data": {
      "text/html": [
       "<div>\n",
       "<style scoped>\n",
       "    .dataframe tbody tr th:only-of-type {\n",
       "        vertical-align: middle;\n",
       "    }\n",
       "\n",
       "    .dataframe tbody tr th {\n",
       "        vertical-align: top;\n",
       "    }\n",
       "\n",
       "    .dataframe thead th {\n",
       "        text-align: right;\n",
       "    }\n",
       "</style>\n",
       "<table border=\"1\" class=\"dataframe\">\n",
       "  <thead>\n",
       "    <tr style=\"text-align: right;\">\n",
       "      <th></th>\n",
       "      <th>age</th>\n",
       "      <th>campaign</th>\n",
       "      <th>pdays</th>\n",
       "      <th>previous</th>\n",
       "      <th>emp.var.rate</th>\n",
       "      <th>cons.price.idx</th>\n",
       "      <th>cons.conf.idx</th>\n",
       "      <th>euribor3m</th>\n",
       "      <th>nr.employed</th>\n",
       "    </tr>\n",
       "  </thead>\n",
       "  <tbody>\n",
       "    <tr>\n",
       "      <th>count</th>\n",
       "      <td>38327.000000</td>\n",
       "      <td>38327.000000</td>\n",
       "      <td>38327.000000</td>\n",
       "      <td>38327.000000</td>\n",
       "      <td>38327.000000</td>\n",
       "      <td>38327.000000</td>\n",
       "      <td>38327.000000</td>\n",
       "      <td>38327.000000</td>\n",
       "      <td>38327.000000</td>\n",
       "    </tr>\n",
       "    <tr>\n",
       "      <th>mean</th>\n",
       "      <td>39.577922</td>\n",
       "      <td>2.047904</td>\n",
       "      <td>962.677877</td>\n",
       "      <td>0.174551</td>\n",
       "      <td>0.064800</td>\n",
       "      <td>93.567786</td>\n",
       "      <td>-40.547645</td>\n",
       "      <td>3.607315</td>\n",
       "      <td>5166.591852</td>\n",
       "    </tr>\n",
       "    <tr>\n",
       "      <th>std</th>\n",
       "      <td>9.679502</td>\n",
       "      <td>1.282004</td>\n",
       "      <td>186.408865</td>\n",
       "      <td>0.493401</td>\n",
       "      <td>1.566085</td>\n",
       "      <td>0.576152</td>\n",
       "      <td>4.619697</td>\n",
       "      <td>1.732225</td>\n",
       "      <td>71.660963</td>\n",
       "    </tr>\n",
       "    <tr>\n",
       "      <th>min</th>\n",
       "      <td>17.000000</td>\n",
       "      <td>1.000000</td>\n",
       "      <td>0.000000</td>\n",
       "      <td>0.000000</td>\n",
       "      <td>-3.400000</td>\n",
       "      <td>92.201000</td>\n",
       "      <td>-50.800000</td>\n",
       "      <td>0.634000</td>\n",
       "      <td>4963.600000</td>\n",
       "    </tr>\n",
       "    <tr>\n",
       "      <th>25%</th>\n",
       "      <td>32.000000</td>\n",
       "      <td>1.000000</td>\n",
       "      <td>999.000000</td>\n",
       "      <td>0.000000</td>\n",
       "      <td>-1.800000</td>\n",
       "      <td>93.075000</td>\n",
       "      <td>-42.700000</td>\n",
       "      <td>1.344000</td>\n",
       "      <td>5099.100000</td>\n",
       "    </tr>\n",
       "    <tr>\n",
       "      <th>50%</th>\n",
       "      <td>38.000000</td>\n",
       "      <td>2.000000</td>\n",
       "      <td>999.000000</td>\n",
       "      <td>0.000000</td>\n",
       "      <td>1.100000</td>\n",
       "      <td>93.444000</td>\n",
       "      <td>-41.800000</td>\n",
       "      <td>4.857000</td>\n",
       "      <td>5191.000000</td>\n",
       "    </tr>\n",
       "    <tr>\n",
       "      <th>75%</th>\n",
       "      <td>47.000000</td>\n",
       "      <td>3.000000</td>\n",
       "      <td>999.000000</td>\n",
       "      <td>0.000000</td>\n",
       "      <td>1.400000</td>\n",
       "      <td>93.994000</td>\n",
       "      <td>-36.400000</td>\n",
       "      <td>4.961000</td>\n",
       "      <td>5228.100000</td>\n",
       "    </tr>\n",
       "    <tr>\n",
       "      <th>max</th>\n",
       "      <td>69.000000</td>\n",
       "      <td>6.000000</td>\n",
       "      <td>999.000000</td>\n",
       "      <td>7.000000</td>\n",
       "      <td>1.400000</td>\n",
       "      <td>94.767000</td>\n",
       "      <td>-26.900000</td>\n",
       "      <td>5.045000</td>\n",
       "      <td>5228.100000</td>\n",
       "    </tr>\n",
       "  </tbody>\n",
       "</table>\n",
       "</div>"
      ],
      "text/plain": [
       "                age      campaign         pdays      previous  emp.var.rate  \\\n",
       "count  38327.000000  38327.000000  38327.000000  38327.000000  38327.000000   \n",
       "mean      39.577922      2.047904    962.677877      0.174551      0.064800   \n",
       "std        9.679502      1.282004    186.408865      0.493401      1.566085   \n",
       "min       17.000000      1.000000      0.000000      0.000000     -3.400000   \n",
       "25%       32.000000      1.000000    999.000000      0.000000     -1.800000   \n",
       "50%       38.000000      2.000000    999.000000      0.000000      1.100000   \n",
       "75%       47.000000      3.000000    999.000000      0.000000      1.400000   \n",
       "max       69.000000      6.000000    999.000000      7.000000      1.400000   \n",
       "\n",
       "       cons.price.idx  cons.conf.idx     euribor3m   nr.employed  \n",
       "count    38327.000000   38327.000000  38327.000000  38327.000000  \n",
       "mean        93.567786     -40.547645      3.607315   5166.591852  \n",
       "std          0.576152       4.619697      1.732225     71.660963  \n",
       "min         92.201000     -50.800000      0.634000   4963.600000  \n",
       "25%         93.075000     -42.700000      1.344000   5099.100000  \n",
       "50%         93.444000     -41.800000      4.857000   5191.000000  \n",
       "75%         93.994000     -36.400000      4.961000   5228.100000  \n",
       "max         94.767000     -26.900000      5.045000   5228.100000  "
      ]
     },
     "execution_count": 16,
     "metadata": {},
     "output_type": "execute_result"
    }
   ],
   "source": [
    "#removing the outliers from campaign column\n",
    "\n",
    "df2=df1[(df1[\"campaign\"]>=lower1) & (df1[\"campaign\"]<=upper1)]\n",
    "\n",
    "df2.describe()"
   ]
  },
  {
   "cell_type": "code",
   "execution_count": 17,
   "id": "0e64cf48-6afd-4048-8fe2-496577f2bb9d",
   "metadata": {},
   "outputs": [
    {
     "data": {
      "text/plain": [
       "(38327, 20)"
      ]
     },
     "execution_count": 17,
     "metadata": {},
     "output_type": "execute_result"
    }
   ],
   "source": [
    "df2.shape"
   ]
  },
  {
   "cell_type": "code",
   "execution_count": 31,
   "id": "043f68d3-2ee4-4b53-9654-f7cd5567ba65",
   "metadata": {},
   "outputs": [
    {
     "name": "stderr",
     "output_type": "stream",
     "text": [
      "C:\\Users\\HARIHARAN\\AppData\\Local\\Temp\\ipykernel_56864\\2342760484.py:1: UserWarning: \n",
      "\n",
      "`distplot` is a deprecated function and will be removed in seaborn v0.14.0.\n",
      "\n",
      "Please adapt your code to use either `displot` (a figure-level function with\n",
      "similar flexibility) or `histplot` (an axes-level function for histograms).\n",
      "\n",
      "For a guide to updating your code to use the new functions, please see\n",
      "https://gist.github.com/mwaskom/de44147ed2974457ad6372750bbe5751\n",
      "\n",
      "  sns.distplot(df2.campaign)\n"
     ]
    },
    {
     "data": {
      "text/plain": [
       "<Axes: xlabel='campaign', ylabel='Density'>"
      ]
     },
     "execution_count": 31,
     "metadata": {},
     "output_type": "execute_result"
    },
    {
     "data": {
      "image/png": "[encoded data removed]",
      "text/plain": [
       "<Figure size 640x480 with 1 Axes>"
      ]
     },
     "metadata": {},
     "output_type": "display_data"
    }
   ],
   "source": [
    "sns.distplot(df2.campaign)"
   ]
  },
  {
   "cell_type": "code",
   "execution_count": 32,
   "id": "681b535a-6e4a-4109-940c-fc3b5f8a4642",
   "metadata": {},
   "outputs": [
    {
     "data": {
      "text/plain": [
       "<Axes: ylabel='campaign'>"
      ]
     },
     "execution_count": 32,
     "metadata": {},
     "output_type": "execute_result"
    },
    {
     "data": {
      "image/png": "[encoded data removed]",
      "text/plain": [
       "<Figure size 640x480 with 1 Axes>"
      ]
     },
     "metadata": {},
     "output_type": "display_data"
    }
   ],
   "source": [
    "sns.boxplot(df2.campaign)"
   ]
  },
  {
   "cell_type": "code",
   "execution_count": 33,
   "id": "02c37b4a-9833-42ef-83ff-1d10cc8776ef",
   "metadata": {},
   "outputs": [
    {
     "name": "stdout",
     "output_type": "stream",
     "text": [
      "<class 'pandas.core.frame.DataFrame'>\n",
      "Index: 38327 entries, 0 to 41186\n",
      "Data columns (total 20 columns):\n",
      " #   Column          Non-Null Count  Dtype  \n",
      "---  ------          --------------  -----  \n",
      " 0   age             38327 non-null  int64  \n",
      " 1   job             38327 non-null  object \n",
      " 2   marital         38327 non-null  object \n",
      " 3   education       38327 non-null  object \n",
      " 4   default         38327 non-null  object \n",
      " 5   housing         38327 non-null  object \n",
      " 6   loan            38327 non-null  object \n",
      " 7   contact         38327 non-null  object \n",
      " 8   month           38327 non-null  object \n",
      " 9   day_of_week     38327 non-null  object \n",
      " 10  campaign        38327 non-null  int64  \n",
      " 11  pdays           38327 non-null  int64  \n",
      " 12  previous        38327 non-null  int64  \n",
      " 13  poutcome        38327 non-null  object \n",
      " 14  emp.var.rate    38327 non-null  float64\n",
      " 15  cons.price.idx  38327 non-null  float64\n",
      " 16  cons.conf.idx   38327 non-null  float64\n",
      " 17  euribor3m       38327 non-null  float64\n",
      " 18  nr.employed     38327 non-null  float64\n",
      " 19  y               38327 non-null  object \n",
      "dtypes: float64(5), int64(4), object(11)\n",
      "memory usage: 6.1+ MB\n"
     ]
    }
   ],
   "source": [
    "df2.info()"
   ]
  },
  {
   "cell_type": "code",
   "execution_count": 61,
   "id": "5910bc1f-dd73-45b6-8698-9a3dcd5eb01b",
   "metadata": {},
   "outputs": [
    {
     "data": {
      "text/html": [
       "<div>\n",
       "<style scoped>\n",
       "    .dataframe tbody tr th:only-of-type {\n",
       "        vertical-align: middle;\n",
       "    }\n",
       "\n",
       "    .dataframe tbody tr th {\n",
       "        vertical-align: top;\n",
       "    }\n",
       "\n",
       "    .dataframe thead th {\n",
       "        text-align: right;\n",
       "    }\n",
       "</style>\n",
       "<table border=\"1\" class=\"dataframe\">\n",
       "  <thead>\n",
       "    <tr style=\"text-align: right;\">\n",
       "      <th></th>\n",
       "      <th>age</th>\n",
       "      <th>job</th>\n",
       "      <th>marital</th>\n",
       "      <th>education</th>\n",
       "      <th>default</th>\n",
       "      <th>housing</th>\n",
       "      <th>loan</th>\n",
       "      <th>contact</th>\n",
       "      <th>month</th>\n",
       "      <th>day_of_week</th>\n",
       "      <th>campaign</th>\n",
       "      <th>pdays</th>\n",
       "      <th>previous</th>\n",
       "      <th>poutcome</th>\n",
       "      <th>emp.var.rate</th>\n",
       "      <th>cons.price.idx</th>\n",
       "      <th>cons.conf.idx</th>\n",
       "      <th>euribor3m</th>\n",
       "      <th>nr.employed</th>\n",
       "      <th>y</th>\n",
       "    </tr>\n",
       "  </thead>\n",
       "  <tbody>\n",
       "    <tr>\n",
       "      <th>0</th>\n",
       "      <td>56</td>\n",
       "      <td>housemaid</td>\n",
       "      <td>married</td>\n",
       "      <td>basic.4y</td>\n",
       "      <td>no</td>\n",
       "      <td>no</td>\n",
       "      <td>no</td>\n",
       "      <td>telephone</td>\n",
       "      <td>may</td>\n",
       "      <td>mon</td>\n",
       "      <td>1</td>\n",
       "      <td>999</td>\n",
       "      <td>0</td>\n",
       "      <td>nonexistent</td>\n",
       "      <td>1.1</td>\n",
       "      <td>93.994</td>\n",
       "      <td>-36.4</td>\n",
       "      <td>4.857</td>\n",
       "      <td>5191.0</td>\n",
       "      <td>no</td>\n",
       "    </tr>\n",
       "    <tr>\n",
       "      <th>1</th>\n",
       "      <td>57</td>\n",
       "      <td>services</td>\n",
       "      <td>married</td>\n",
       "      <td>high.school</td>\n",
       "      <td>unknown</td>\n",
       "      <td>no</td>\n",
       "      <td>no</td>\n",
       "      <td>telephone</td>\n",
       "      <td>may</td>\n",
       "      <td>mon</td>\n",
       "      <td>1</td>\n",
       "      <td>999</td>\n",
       "      <td>0</td>\n",
       "      <td>nonexistent</td>\n",
       "      <td>1.1</td>\n",
       "      <td>93.994</td>\n",
       "      <td>-36.4</td>\n",
       "      <td>4.857</td>\n",
       "      <td>5191.0</td>\n",
       "      <td>no</td>\n",
       "    </tr>\n",
       "    <tr>\n",
       "      <th>2</th>\n",
       "      <td>37</td>\n",
       "      <td>services</td>\n",
       "      <td>married</td>\n",
       "      <td>high.school</td>\n",
       "      <td>no</td>\n",
       "      <td>yes</td>\n",
       "      <td>no</td>\n",
       "      <td>telephone</td>\n",
       "      <td>may</td>\n",
       "      <td>mon</td>\n",
       "      <td>1</td>\n",
       "      <td>999</td>\n",
       "      <td>0</td>\n",
       "      <td>nonexistent</td>\n",
       "      <td>1.1</td>\n",
       "      <td>93.994</td>\n",
       "      <td>-36.4</td>\n",
       "      <td>4.857</td>\n",
       "      <td>5191.0</td>\n",
       "      <td>no</td>\n",
       "    </tr>\n",
       "    <tr>\n",
       "      <th>3</th>\n",
       "      <td>40</td>\n",
       "      <td>admin.</td>\n",
       "      <td>married</td>\n",
       "      <td>basic.6y</td>\n",
       "      <td>no</td>\n",
       "      <td>no</td>\n",
       "      <td>no</td>\n",
       "      <td>telephone</td>\n",
       "      <td>may</td>\n",
       "      <td>mon</td>\n",
       "      <td>1</td>\n",
       "      <td>999</td>\n",
       "      <td>0</td>\n",
       "      <td>nonexistent</td>\n",
       "      <td>1.1</td>\n",
       "      <td>93.994</td>\n",
       "      <td>-36.4</td>\n",
       "      <td>4.857</td>\n",
       "      <td>5191.0</td>\n",
       "      <td>no</td>\n",
       "    </tr>\n",
       "    <tr>\n",
       "      <th>4</th>\n",
       "      <td>56</td>\n",
       "      <td>services</td>\n",
       "      <td>married</td>\n",
       "      <td>high.school</td>\n",
       "      <td>no</td>\n",
       "      <td>no</td>\n",
       "      <td>yes</td>\n",
       "      <td>telephone</td>\n",
       "      <td>may</td>\n",
       "      <td>mon</td>\n",
       "      <td>1</td>\n",
       "      <td>999</td>\n",
       "      <td>0</td>\n",
       "      <td>nonexistent</td>\n",
       "      <td>1.1</td>\n",
       "      <td>93.994</td>\n",
       "      <td>-36.4</td>\n",
       "      <td>4.857</td>\n",
       "      <td>5191.0</td>\n",
       "      <td>no</td>\n",
       "    </tr>\n",
       "  </tbody>\n",
       "</table>\n",
       "</div>"
      ],
      "text/plain": [
       "   age        job  marital    education  default housing loan    contact  \\\n",
       "0   56  housemaid  married     basic.4y       no      no   no  telephone   \n",
       "1   57   services  married  high.school  unknown      no   no  telephone   \n",
       "2   37   services  married  high.school       no     yes   no  telephone   \n",
       "3   40     admin.  married     basic.6y       no      no   no  telephone   \n",
       "4   56   services  married  high.school       no      no  yes  telephone   \n",
       "\n",
       "  month day_of_week  campaign  pdays  previous     poutcome  emp.var.rate  \\\n",
       "0   may         mon         1    999         0  nonexistent           1.1   \n",
       "1   may         mon         1    999         0  nonexistent           1.1   \n",
       "2   may         mon         1    999         0  nonexistent           1.1   \n",
       "3   may         mon         1    999         0  nonexistent           1.1   \n",
       "4   may         mon         1    999         0  nonexistent           1.1   \n",
       "\n",
       "   cons.price.idx  cons.conf.idx  euribor3m  nr.employed   y  \n",
       "0          93.994          -36.4      4.857       5191.0  no  \n",
       "1          93.994          -36.4      4.857       5191.0  no  \n",
       "2          93.994          -36.4      4.857       5191.0  no  \n",
       "3          93.994          -36.4      4.857       5191.0  no  \n",
       "4          93.994          -36.4      4.857       5191.0  no  "
      ]
     },
     "execution_count": 61,
     "metadata": {},
     "output_type": "execute_result"
    }
   ],
   "source": [
    "df2.head()"
   ]
  },
  {
   "cell_type": "markdown",
   "id": "4138ab21-1d68-4b59-b3ce-a7a41ea982f8",
   "metadata": {},
   "source": [
    "## Creating dummy variables inplace of the catagorical variables"
   ]
  },
  {
   "cell_type": "code",
   "execution_count": 18,
   "id": "8de32577-693b-4adb-8f7e-814e47c9b890",
   "metadata": {},
   "outputs": [],
   "source": [
    "#grouping the catagorical variables \n",
    "\n",
    "categorical_columns = ['job', 'marital', 'education', 'default', 'housing', 'loan', 'contact', 'month', 'day_of_week', 'poutcome']\n"
   ]
  },
  {
   "cell_type": "code",
   "execution_count": 19,
   "id": "2e153062-3aca-4b7b-a8a3-a69e54317a12",
   "metadata": {},
   "outputs": [],
   "source": [
    "#assigning dummy variables for the columns and dropping the first to avoid the dummy variable trap\n",
    "\n",
    "dummy=pd.get_dummies(df2[categorical_columns],drop_first=True,prefix=categorical_columns,dtype=float)"
   ]
  },
  {
   "cell_type": "code",
   "execution_count": 20,
   "id": "d27754f2-0fcf-4f4a-8c4a-d8c1bd57b1e0",
   "metadata": {},
   "outputs": [],
   "source": [
    "#adding the new dummy dataframe to the cleaned dataframe and assigning it to th ename df3\n",
    "\n",
    "df3=pd.concat([df2,dummy],axis=1)"
   ]
  },
  {
   "cell_type": "code",
   "execution_count": 48,
   "id": "0eb2b842-ffef-4e65-895b-c51e94661d16",
   "metadata": {},
   "outputs": [
    {
     "data": {
      "text/html": [
       "<div>\n",
       "<style scoped>\n",
       "    .dataframe tbody tr th:only-of-type {\n",
       "        vertical-align: middle;\n",
       "    }\n",
       "\n",
       "    .dataframe tbody tr th {\n",
       "        vertical-align: top;\n",
       "    }\n",
       "\n",
       "    .dataframe thead th {\n",
       "        text-align: right;\n",
       "    }\n",
       "</style>\n",
       "<table border=\"1\" class=\"dataframe\">\n",
       "  <thead>\n",
       "    <tr style=\"text-align: right;\">\n",
       "      <th></th>\n",
       "      <th>age</th>\n",
       "      <th>job</th>\n",
       "      <th>marital</th>\n",
       "      <th>education</th>\n",
       "      <th>default</th>\n",
       "      <th>housing</th>\n",
       "      <th>loan</th>\n",
       "      <th>contact</th>\n",
       "      <th>month</th>\n",
       "      <th>day_of_week</th>\n",
       "      <th>...</th>\n",
       "      <th>month_may</th>\n",
       "      <th>month_nov</th>\n",
       "      <th>month_oct</th>\n",
       "      <th>month_sep</th>\n",
       "      <th>day_of_week_mon</th>\n",
       "      <th>day_of_week_thu</th>\n",
       "      <th>day_of_week_tue</th>\n",
       "      <th>day_of_week_wed</th>\n",
       "      <th>poutcome_nonexistent</th>\n",
       "      <th>poutcome_success</th>\n",
       "    </tr>\n",
       "  </thead>\n",
       "  <tbody>\n",
       "    <tr>\n",
       "      <th>0</th>\n",
       "      <td>56</td>\n",
       "      <td>housemaid</td>\n",
       "      <td>married</td>\n",
       "      <td>basic.4y</td>\n",
       "      <td>no</td>\n",
       "      <td>no</td>\n",
       "      <td>no</td>\n",
       "      <td>telephone</td>\n",
       "      <td>may</td>\n",
       "      <td>mon</td>\n",
       "      <td>...</td>\n",
       "      <td>1.0</td>\n",
       "      <td>0.0</td>\n",
       "      <td>0.0</td>\n",
       "      <td>0.0</td>\n",
       "      <td>1.0</td>\n",
       "      <td>0.0</td>\n",
       "      <td>0.0</td>\n",
       "      <td>0.0</td>\n",
       "      <td>1.0</td>\n",
       "      <td>0.0</td>\n",
       "    </tr>\n",
       "    <tr>\n",
       "      <th>1</th>\n",
       "      <td>57</td>\n",
       "      <td>services</td>\n",
       "      <td>married</td>\n",
       "      <td>high.school</td>\n",
       "      <td>unknown</td>\n",
       "      <td>no</td>\n",
       "      <td>no</td>\n",
       "      <td>telephone</td>\n",
       "      <td>may</td>\n",
       "      <td>mon</td>\n",
       "      <td>...</td>\n",
       "      <td>1.0</td>\n",
       "      <td>0.0</td>\n",
       "      <td>0.0</td>\n",
       "      <td>0.0</td>\n",
       "      <td>1.0</td>\n",
       "      <td>0.0</td>\n",
       "      <td>0.0</td>\n",
       "      <td>0.0</td>\n",
       "      <td>1.0</td>\n",
       "      <td>0.0</td>\n",
       "    </tr>\n",
       "    <tr>\n",
       "      <th>2</th>\n",
       "      <td>37</td>\n",
       "      <td>services</td>\n",
       "      <td>married</td>\n",
       "      <td>high.school</td>\n",
       "      <td>no</td>\n",
       "      <td>yes</td>\n",
       "      <td>no</td>\n",
       "      <td>telephone</td>\n",
       "      <td>may</td>\n",
       "      <td>mon</td>\n",
       "      <td>...</td>\n",
       "      <td>1.0</td>\n",
       "      <td>0.0</td>\n",
       "      <td>0.0</td>\n",
       "      <td>0.0</td>\n",
       "      <td>1.0</td>\n",
       "      <td>0.0</td>\n",
       "      <td>0.0</td>\n",
       "      <td>0.0</td>\n",
       "      <td>1.0</td>\n",
       "      <td>0.0</td>\n",
       "    </tr>\n",
       "    <tr>\n",
       "      <th>3</th>\n",
       "      <td>40</td>\n",
       "      <td>admin.</td>\n",
       "      <td>married</td>\n",
       "      <td>basic.6y</td>\n",
       "      <td>no</td>\n",
       "      <td>no</td>\n",
       "      <td>no</td>\n",
       "      <td>telephone</td>\n",
       "      <td>may</td>\n",
       "      <td>mon</td>\n",
       "      <td>...</td>\n",
       "      <td>1.0</td>\n",
       "      <td>0.0</td>\n",
       "      <td>0.0</td>\n",
       "      <td>0.0</td>\n",
       "      <td>1.0</td>\n",
       "      <td>0.0</td>\n",
       "      <td>0.0</td>\n",
       "      <td>0.0</td>\n",
       "      <td>1.0</td>\n",
       "      <td>0.0</td>\n",
       "    </tr>\n",
       "    <tr>\n",
       "      <th>4</th>\n",
       "      <td>56</td>\n",
       "      <td>services</td>\n",
       "      <td>married</td>\n",
       "      <td>high.school</td>\n",
       "      <td>no</td>\n",
       "      <td>no</td>\n",
       "      <td>yes</td>\n",
       "      <td>telephone</td>\n",
       "      <td>may</td>\n",
       "      <td>mon</td>\n",
       "      <td>...</td>\n",
       "      <td>1.0</td>\n",
       "      <td>0.0</td>\n",
       "      <td>0.0</td>\n",
       "      <td>0.0</td>\n",
       "      <td>1.0</td>\n",
       "      <td>0.0</td>\n",
       "      <td>0.0</td>\n",
       "      <td>0.0</td>\n",
       "      <td>1.0</td>\n",
       "      <td>0.0</td>\n",
       "    </tr>\n",
       "  </tbody>\n",
       "</table>\n",
       "<p>5 rows × 63 columns</p>\n",
       "</div>"
      ],
      "text/plain": [
       "   age        job  marital    education  default housing loan    contact  \\\n",
       "0   56  housemaid  married     basic.4y       no      no   no  telephone   \n",
       "1   57   services  married  high.school  unknown      no   no  telephone   \n",
       "2   37   services  married  high.school       no     yes   no  telephone   \n",
       "3   40     admin.  married     basic.6y       no      no   no  telephone   \n",
       "4   56   services  married  high.school       no      no  yes  telephone   \n",
       "\n",
       "  month day_of_week  ...  month_may  month_nov  month_oct month_sep  \\\n",
       "0   may         mon  ...        1.0        0.0        0.0       0.0   \n",
       "1   may         mon  ...        1.0        0.0        0.0       0.0   \n",
       "2   may         mon  ...        1.0        0.0        0.0       0.0   \n",
       "3   may         mon  ...        1.0        0.0        0.0       0.0   \n",
       "4   may         mon  ...        1.0        0.0        0.0       0.0   \n",
       "\n",
       "   day_of_week_mon  day_of_week_thu  day_of_week_tue  day_of_week_wed  \\\n",
       "0              1.0              0.0              0.0              0.0   \n",
       "1              1.0              0.0              0.0              0.0   \n",
       "2              1.0              0.0              0.0              0.0   \n",
       "3              1.0              0.0              0.0              0.0   \n",
       "4              1.0              0.0              0.0              0.0   \n",
       "\n",
       "   poutcome_nonexistent poutcome_success  \n",
       "0                   1.0              0.0  \n",
       "1                   1.0              0.0  \n",
       "2                   1.0              0.0  \n",
       "3                   1.0              0.0  \n",
       "4                   1.0              0.0  \n",
       "\n",
       "[5 rows x 63 columns]"
      ]
     },
     "execution_count": 48,
     "metadata": {},
     "output_type": "execute_result"
    }
   ],
   "source": [
    "df3.head()"
   ]
  },
  {
   "cell_type": "code",
   "execution_count": 35,
   "id": "9083d0b7-1e04-4264-bcf1-d7d838f9ec6a",
   "metadata": {},
   "outputs": [
    {
     "data": {
      "text/plain": [
       "(38327, 63)"
      ]
     },
     "execution_count": 35,
     "metadata": {},
     "output_type": "execute_result"
    }
   ],
   "source": [
    "df3.shape\n",
    "\n",
    "#now we can see that the column length increased"
   ]
  },
  {
   "cell_type": "code",
   "execution_count": 21,
   "id": "3f0519d9-25d4-4d38-bd65-5483affd7e02",
   "metadata": {},
   "outputs": [],
   "source": [
    "#Droping the catagorical columns\n",
    "\n",
    "df3.drop(columns=['job', 'marital', 'education', 'default', 'housing', 'loan', 'contact', 'month', 'day_of_week', 'poutcome'],inplace=True)"
   ]
  },
  {
   "cell_type": "code",
   "execution_count": 37,
   "id": "d07ebe00-1640-482f-8b02-60bdb8801e65",
   "metadata": {},
   "outputs": [
    {
     "name": "stdout",
     "output_type": "stream",
     "text": [
      "<class 'pandas.core.frame.DataFrame'>\n",
      "Index: 38327 entries, 0 to 41186\n",
      "Data columns (total 53 columns):\n",
      " #   Column                         Non-Null Count  Dtype  \n",
      "---  ------                         --------------  -----  \n",
      " 0   age                            38327 non-null  int64  \n",
      " 1   campaign                       38327 non-null  int64  \n",
      " 2   pdays                          38327 non-null  int64  \n",
      " 3   previous                       38327 non-null  int64  \n",
      " 4   emp.var.rate                   38327 non-null  float64\n",
      " 5   cons.price.idx                 38327 non-null  float64\n",
      " 6   cons.conf.idx                  38327 non-null  float64\n",
      " 7   euribor3m                      38327 non-null  float64\n",
      " 8   nr.employed                    38327 non-null  float64\n",
      " 9   y                              38327 non-null  object \n",
      " 10  job_blue-collar                38327 non-null  float64\n",
      " 11  job_entrepreneur               38327 non-null  float64\n",
      " 12  job_housemaid                  38327 non-null  float64\n",
      " 13  job_management                 38327 non-null  float64\n",
      " 14  job_retired                    38327 non-null  float64\n",
      " 15  job_self-employed              38327 non-null  float64\n",
      " 16  job_services                   38327 non-null  float64\n",
      " 17  job_student                    38327 non-null  float64\n",
      " 18  job_technician                 38327 non-null  float64\n",
      " 19  job_unemployed                 38327 non-null  float64\n",
      " 20  job_unknown                    38327 non-null  float64\n",
      " 21  marital_married                38327 non-null  float64\n",
      " 22  marital_single                 38327 non-null  float64\n",
      " 23  marital_unknown                38327 non-null  float64\n",
      " 24  education_basic.6y             38327 non-null  float64\n",
      " 25  education_basic.9y             38327 non-null  float64\n",
      " 26  education_high.school          38327 non-null  float64\n",
      " 27  education_illiterate           38327 non-null  float64\n",
      " 28  education_professional.course  38327 non-null  float64\n",
      " 29  education_university.degree    38327 non-null  float64\n",
      " 30  education_unknown              38327 non-null  float64\n",
      " 31  default_unknown                38327 non-null  float64\n",
      " 32  default_yes                    38327 non-null  float64\n",
      " 33  housing_unknown                38327 non-null  float64\n",
      " 34  housing_yes                    38327 non-null  float64\n",
      " 35  loan_unknown                   38327 non-null  float64\n",
      " 36  loan_yes                       38327 non-null  float64\n",
      " 37  contact_telephone              38327 non-null  float64\n",
      " 38  month_aug                      38327 non-null  float64\n",
      " 39  month_dec                      38327 non-null  float64\n",
      " 40  month_jul                      38327 non-null  float64\n",
      " 41  month_jun                      38327 non-null  float64\n",
      " 42  month_mar                      38327 non-null  float64\n",
      " 43  month_may                      38327 non-null  float64\n",
      " 44  month_nov                      38327 non-null  float64\n",
      " 45  month_oct                      38327 non-null  float64\n",
      " 46  month_sep                      38327 non-null  float64\n",
      " 47  day_of_week_mon                38327 non-null  float64\n",
      " 48  day_of_week_thu                38327 non-null  float64\n",
      " 49  day_of_week_tue                38327 non-null  float64\n",
      " 50  day_of_week_wed                38327 non-null  float64\n",
      " 51  poutcome_nonexistent           38327 non-null  float64\n",
      " 52  poutcome_success               38327 non-null  float64\n",
      "dtypes: float64(48), int64(4), object(1)\n",
      "memory usage: 15.8+ MB\n"
     ]
    }
   ],
   "source": [
    "df3.info()"
   ]
  },
  {
   "cell_type": "markdown",
   "id": "2c5d9c2e-3aa0-4835-a3e4-a3afbd952ea5",
   "metadata": {},
   "source": [
    "## Scaling the variables other than that of the target variable"
   ]
  },
  {
   "cell_type": "code",
   "execution_count": 22,
   "id": "a0e3b7b2-d9ce-40bc-b4ee-0306b85e0b2b",
   "metadata": {},
   "outputs": [
    {
     "data": {
      "text/html": [
       "<div>\n",
       "<style scoped>\n",
       "    .dataframe tbody tr th:only-of-type {\n",
       "        vertical-align: middle;\n",
       "    }\n",
       "\n",
       "    .dataframe tbody tr th {\n",
       "        vertical-align: top;\n",
       "    }\n",
       "\n",
       "    .dataframe thead th {\n",
       "        text-align: right;\n",
       "    }\n",
       "</style>\n",
       "<table border=\"1\" class=\"dataframe\">\n",
       "  <thead>\n",
       "    <tr style=\"text-align: right;\">\n",
       "      <th></th>\n",
       "      <th>age</th>\n",
       "      <th>campaign</th>\n",
       "      <th>pdays</th>\n",
       "      <th>previous</th>\n",
       "      <th>emp.var.rate</th>\n",
       "      <th>cons.price.idx</th>\n",
       "      <th>cons.conf.idx</th>\n",
       "      <th>euribor3m</th>\n",
       "      <th>nr.employed</th>\n",
       "      <th>y</th>\n",
       "      <th>...</th>\n",
       "      <th>month_may</th>\n",
       "      <th>month_nov</th>\n",
       "      <th>month_oct</th>\n",
       "      <th>month_sep</th>\n",
       "      <th>day_of_week_mon</th>\n",
       "      <th>day_of_week_thu</th>\n",
       "      <th>day_of_week_tue</th>\n",
       "      <th>day_of_week_wed</th>\n",
       "      <th>poutcome_nonexistent</th>\n",
       "      <th>poutcome_success</th>\n",
       "    </tr>\n",
       "  </thead>\n",
       "  <tbody>\n",
       "    <tr>\n",
       "      <th>0</th>\n",
       "      <td>1.696605</td>\n",
       "      <td>-0.817406</td>\n",
       "      <td>0.194854</td>\n",
       "      <td>-0.353775</td>\n",
       "      <td>0.661020</td>\n",
       "      <td>0.739769</td>\n",
       "      <td>0.897829</td>\n",
       "      <td>0.721443</td>\n",
       "      <td>0.340610</td>\n",
       "      <td>no</td>\n",
       "      <td>...</td>\n",
       "      <td>1.389477</td>\n",
       "      <td>-0.341026</td>\n",
       "      <td>-0.131038</td>\n",
       "      <td>-0.115783</td>\n",
       "      <td>1.949173</td>\n",
       "      <td>-0.512186</td>\n",
       "      <td>-0.496271</td>\n",
       "      <td>-0.497251</td>\n",
       "      <td>0.401689</td>\n",
       "      <td>-0.185126</td>\n",
       "    </tr>\n",
       "    <tr>\n",
       "      <th>1</th>\n",
       "      <td>1.799917</td>\n",
       "      <td>-0.817406</td>\n",
       "      <td>0.194854</td>\n",
       "      <td>-0.353775</td>\n",
       "      <td>0.661020</td>\n",
       "      <td>0.739769</td>\n",
       "      <td>0.897829</td>\n",
       "      <td>0.721443</td>\n",
       "      <td>0.340610</td>\n",
       "      <td>no</td>\n",
       "      <td>...</td>\n",
       "      <td>1.389477</td>\n",
       "      <td>-0.341026</td>\n",
       "      <td>-0.131038</td>\n",
       "      <td>-0.115783</td>\n",
       "      <td>1.949173</td>\n",
       "      <td>-0.512186</td>\n",
       "      <td>-0.496271</td>\n",
       "      <td>-0.497251</td>\n",
       "      <td>0.401689</td>\n",
       "      <td>-0.185126</td>\n",
       "    </tr>\n",
       "    <tr>\n",
       "      <th>2</th>\n",
       "      <td>-0.266331</td>\n",
       "      <td>-0.817406</td>\n",
       "      <td>0.194854</td>\n",
       "      <td>-0.353775</td>\n",
       "      <td>0.661020</td>\n",
       "      <td>0.739769</td>\n",
       "      <td>0.897829</td>\n",
       "      <td>0.721443</td>\n",
       "      <td>0.340610</td>\n",
       "      <td>no</td>\n",
       "      <td>...</td>\n",
       "      <td>1.389477</td>\n",
       "      <td>-0.341026</td>\n",
       "      <td>-0.131038</td>\n",
       "      <td>-0.115783</td>\n",
       "      <td>1.949173</td>\n",
       "      <td>-0.512186</td>\n",
       "      <td>-0.496271</td>\n",
       "      <td>-0.497251</td>\n",
       "      <td>0.401689</td>\n",
       "      <td>-0.185126</td>\n",
       "    </tr>\n",
       "    <tr>\n",
       "      <th>3</th>\n",
       "      <td>0.043606</td>\n",
       "      <td>-0.817406</td>\n",
       "      <td>0.194854</td>\n",
       "      <td>-0.353775</td>\n",
       "      <td>0.661020</td>\n",
       "      <td>0.739769</td>\n",
       "      <td>0.897829</td>\n",
       "      <td>0.721443</td>\n",
       "      <td>0.340610</td>\n",
       "      <td>no</td>\n",
       "      <td>...</td>\n",
       "      <td>1.389477</td>\n",
       "      <td>-0.341026</td>\n",
       "      <td>-0.131038</td>\n",
       "      <td>-0.115783</td>\n",
       "      <td>1.949173</td>\n",
       "      <td>-0.512186</td>\n",
       "      <td>-0.496271</td>\n",
       "      <td>-0.497251</td>\n",
       "      <td>0.401689</td>\n",
       "      <td>-0.185126</td>\n",
       "    </tr>\n",
       "    <tr>\n",
       "      <th>4</th>\n",
       "      <td>1.696605</td>\n",
       "      <td>-0.817406</td>\n",
       "      <td>0.194854</td>\n",
       "      <td>-0.353775</td>\n",
       "      <td>0.661020</td>\n",
       "      <td>0.739769</td>\n",
       "      <td>0.897829</td>\n",
       "      <td>0.721443</td>\n",
       "      <td>0.340610</td>\n",
       "      <td>no</td>\n",
       "      <td>...</td>\n",
       "      <td>1.389477</td>\n",
       "      <td>-0.341026</td>\n",
       "      <td>-0.131038</td>\n",
       "      <td>-0.115783</td>\n",
       "      <td>1.949173</td>\n",
       "      <td>-0.512186</td>\n",
       "      <td>-0.496271</td>\n",
       "      <td>-0.497251</td>\n",
       "      <td>0.401689</td>\n",
       "      <td>-0.185126</td>\n",
       "    </tr>\n",
       "    <tr>\n",
       "      <th>...</th>\n",
       "      <td>...</td>\n",
       "      <td>...</td>\n",
       "      <td>...</td>\n",
       "      <td>...</td>\n",
       "      <td>...</td>\n",
       "      <td>...</td>\n",
       "      <td>...</td>\n",
       "      <td>...</td>\n",
       "      <td>...</td>\n",
       "      <td>...</td>\n",
       "      <td>...</td>\n",
       "      <td>...</td>\n",
       "      <td>...</td>\n",
       "      <td>...</td>\n",
       "      <td>...</td>\n",
       "      <td>...</td>\n",
       "      <td>...</td>\n",
       "      <td>...</td>\n",
       "      <td>...</td>\n",
       "      <td>...</td>\n",
       "      <td>...</td>\n",
       "    </tr>\n",
       "    <tr>\n",
       "      <th>41181</th>\n",
       "      <td>-0.266331</td>\n",
       "      <td>-0.817406</td>\n",
       "      <td>0.194854</td>\n",
       "      <td>-0.353775</td>\n",
       "      <td>-0.743776</td>\n",
       "      <td>2.081446</td>\n",
       "      <td>-2.219299</td>\n",
       "      <td>-1.489038</td>\n",
       "      <td>-2.832707</td>\n",
       "      <td>yes</td>\n",
       "      <td>...</td>\n",
       "      <td>-0.719695</td>\n",
       "      <td>2.932328</td>\n",
       "      <td>-0.131038</td>\n",
       "      <td>-0.115783</td>\n",
       "      <td>-0.513038</td>\n",
       "      <td>-0.512186</td>\n",
       "      <td>-0.496271</td>\n",
       "      <td>-0.497251</td>\n",
       "      <td>0.401689</td>\n",
       "      <td>-0.185126</td>\n",
       "    </tr>\n",
       "    <tr>\n",
       "      <th>41182</th>\n",
       "      <td>-1.092831</td>\n",
       "      <td>-0.817406</td>\n",
       "      <td>-5.116121</td>\n",
       "      <td>1.673001</td>\n",
       "      <td>-0.743776</td>\n",
       "      <td>2.081446</td>\n",
       "      <td>-2.219299</td>\n",
       "      <td>-1.489038</td>\n",
       "      <td>-2.832707</td>\n",
       "      <td>no</td>\n",
       "      <td>...</td>\n",
       "      <td>-0.719695</td>\n",
       "      <td>2.932328</td>\n",
       "      <td>-0.131038</td>\n",
       "      <td>-0.115783</td>\n",
       "      <td>-0.513038</td>\n",
       "      <td>-0.512186</td>\n",
       "      <td>-0.496271</td>\n",
       "      <td>-0.497251</td>\n",
       "      <td>-2.489490</td>\n",
       "      <td>5.401735</td>\n",
       "    </tr>\n",
       "    <tr>\n",
       "      <th>41184</th>\n",
       "      <td>0.663481</td>\n",
       "      <td>-0.817406</td>\n",
       "      <td>0.194854</td>\n",
       "      <td>-0.353775</td>\n",
       "      <td>-0.743776</td>\n",
       "      <td>2.081446</td>\n",
       "      <td>-2.219299</td>\n",
       "      <td>-1.489038</td>\n",
       "      <td>-2.832707</td>\n",
       "      <td>no</td>\n",
       "      <td>...</td>\n",
       "      <td>-0.719695</td>\n",
       "      <td>2.932328</td>\n",
       "      <td>-0.131038</td>\n",
       "      <td>-0.115783</td>\n",
       "      <td>-0.513038</td>\n",
       "      <td>-0.512186</td>\n",
       "      <td>-0.496271</td>\n",
       "      <td>-0.497251</td>\n",
       "      <td>0.401689</td>\n",
       "      <td>-0.185126</td>\n",
       "    </tr>\n",
       "    <tr>\n",
       "      <th>41185</th>\n",
       "      <td>1.696605</td>\n",
       "      <td>-0.037367</td>\n",
       "      <td>0.194854</td>\n",
       "      <td>-0.353775</td>\n",
       "      <td>-0.743776</td>\n",
       "      <td>2.081446</td>\n",
       "      <td>-2.219299</td>\n",
       "      <td>-1.489038</td>\n",
       "      <td>-2.832707</td>\n",
       "      <td>no</td>\n",
       "      <td>...</td>\n",
       "      <td>-0.719695</td>\n",
       "      <td>2.932328</td>\n",
       "      <td>-0.131038</td>\n",
       "      <td>-0.115783</td>\n",
       "      <td>-0.513038</td>\n",
       "      <td>-0.512186</td>\n",
       "      <td>-0.496271</td>\n",
       "      <td>-0.497251</td>\n",
       "      <td>0.401689</td>\n",
       "      <td>-0.185126</td>\n",
       "    </tr>\n",
       "    <tr>\n",
       "      <th>41186</th>\n",
       "      <td>0.456856</td>\n",
       "      <td>-0.817406</td>\n",
       "      <td>0.194854</td>\n",
       "      <td>-0.353775</td>\n",
       "      <td>-0.743776</td>\n",
       "      <td>2.081446</td>\n",
       "      <td>-2.219299</td>\n",
       "      <td>-1.489038</td>\n",
       "      <td>-2.832707</td>\n",
       "      <td>yes</td>\n",
       "      <td>...</td>\n",
       "      <td>-0.719695</td>\n",
       "      <td>2.932328</td>\n",
       "      <td>-0.131038</td>\n",
       "      <td>-0.115783</td>\n",
       "      <td>-0.513038</td>\n",
       "      <td>-0.512186</td>\n",
       "      <td>-0.496271</td>\n",
       "      <td>-0.497251</td>\n",
       "      <td>0.401689</td>\n",
       "      <td>-0.185126</td>\n",
       "    </tr>\n",
       "  </tbody>\n",
       "</table>\n",
       "<p>38327 rows × 53 columns</p>\n",
       "</div>"
      ],
      "text/plain": [
       "            age  campaign     pdays  previous  emp.var.rate  cons.price.idx  \\\n",
       "0      1.696605 -0.817406  0.194854 -0.353775      0.661020        0.739769   \n",
       "1      1.799917 -0.817406  0.194854 -0.353775      0.661020        0.739769   \n",
       "2     -0.266331 -0.817406  0.194854 -0.353775      0.661020        0.739769   \n",
       "3      0.043606 -0.817406  0.194854 -0.353775      0.661020        0.739769   \n",
       "4      1.696605 -0.817406  0.194854 -0.353775      0.661020        0.739769   \n",
       "...         ...       ...       ...       ...           ...             ...   \n",
       "41181 -0.266331 -0.817406  0.194854 -0.353775     -0.743776        2.081446   \n",
       "41182 -1.092831 -0.817406 -5.116121  1.673001     -0.743776        2.081446   \n",
       "41184  0.663481 -0.817406  0.194854 -0.353775     -0.743776        2.081446   \n",
       "41185  1.696605 -0.037367  0.194854 -0.353775     -0.743776        2.081446   \n",
       "41186  0.456856 -0.817406  0.194854 -0.353775     -0.743776        2.081446   \n",
       "\n",
       "       cons.conf.idx  euribor3m  nr.employed    y  ...  month_may  month_nov  \\\n",
       "0           0.897829   0.721443     0.340610   no  ...   1.389477  -0.341026   \n",
       "1           0.897829   0.721443     0.340610   no  ...   1.389477  -0.341026   \n",
       "2           0.897829   0.721443     0.340610   no  ...   1.389477  -0.341026   \n",
       "3           0.897829   0.721443     0.340610   no  ...   1.389477  -0.341026   \n",
       "4           0.897829   0.721443     0.340610   no  ...   1.389477  -0.341026   \n",
       "...              ...        ...          ...  ...  ...        ...        ...   \n",
       "41181      -2.219299  -1.489038    -2.832707  yes  ...  -0.719695   2.932328   \n",
       "41182      -2.219299  -1.489038    -2.832707   no  ...  -0.719695   2.932328   \n",
       "41184      -2.219299  -1.489038    -2.832707   no  ...  -0.719695   2.932328   \n",
       "41185      -2.219299  -1.489038    -2.832707   no  ...  -0.719695   2.932328   \n",
       "41186      -2.219299  -1.489038    -2.832707  yes  ...  -0.719695   2.932328   \n",
       "\n",
       "       month_oct  month_sep  day_of_week_mon  day_of_week_thu  \\\n",
       "0      -0.131038  -0.115783         1.949173        -0.512186   \n",
       "1      -0.131038  -0.115783         1.949173        -0.512186   \n",
       "2      -0.131038  -0.115783         1.949173        -0.512186   \n",
       "3      -0.131038  -0.115783         1.949173        -0.512186   \n",
       "4      -0.131038  -0.115783         1.949173        -0.512186   \n",
       "...          ...        ...              ...              ...   \n",
       "41181  -0.131038  -0.115783        -0.513038        -0.512186   \n",
       "41182  -0.131038  -0.115783        -0.513038        -0.512186   \n",
       "41184  -0.131038  -0.115783        -0.513038        -0.512186   \n",
       "41185  -0.131038  -0.115783        -0.513038        -0.512186   \n",
       "41186  -0.131038  -0.115783        -0.513038        -0.512186   \n",
       "\n",
       "       day_of_week_tue  day_of_week_wed  poutcome_nonexistent  \\\n",
       "0            -0.496271        -0.497251              0.401689   \n",
       "1            -0.496271        -0.497251              0.401689   \n",
       "2            -0.496271        -0.497251              0.401689   \n",
       "3            -0.496271        -0.497251              0.401689   \n",
       "4            -0.496271        -0.497251              0.401689   \n",
       "...                ...              ...                   ...   \n",
       "41181        -0.496271        -0.497251              0.401689   \n",
       "41182        -0.496271        -0.497251             -2.489490   \n",
       "41184        -0.496271        -0.497251              0.401689   \n",
       "41185        -0.496271        -0.497251              0.401689   \n",
       "41186        -0.496271        -0.497251              0.401689   \n",
       "\n",
       "       poutcome_success  \n",
       "0             -0.185126  \n",
       "1             -0.185126  \n",
       "2             -0.185126  \n",
       "3             -0.185126  \n",
       "4             -0.185126  \n",
       "...                 ...  \n",
       "41181         -0.185126  \n",
       "41182          5.401735  \n",
       "41184         -0.185126  \n",
       "41185         -0.185126  \n",
       "41186         -0.185126  \n",
       "\n",
       "[38327 rows x 53 columns]"
      ]
     },
     "execution_count": 22,
     "metadata": {},
     "output_type": "execute_result"
    }
   ],
   "source": [
    "#Creating a new dataframe named numeric columns that includes all the columns of df3 that has numeric datatypes\n",
    "\n",
    "numeric_columns = df3.select_dtypes(include=['int', 'float']).columns\n",
    "\n",
    "#Using the standard scaler creating a scaler object and fitting the numeric_columns dataframe\n",
    "\n",
    "scaler = StandardScaler()\n",
    "scaler.fit(df3[numeric_columns])\n",
    "\n",
    "#scaling the dataset and assiging it to a new name df_scaled\n",
    "df_scaled = df3.copy()\n",
    "df_scaled[numeric_columns] = scaler.transform(df3[numeric_columns])\n",
    "df_scaled"
   ]
  },
  {
   "cell_type": "markdown",
   "id": "118b2803-2cf4-4a3d-b7d7-a62f8d3a8f63",
   "metadata": {},
   "source": [
    "## Splitting the data into independent and target variables"
   ]
  },
  {
   "cell_type": "code",
   "execution_count": 23,
   "id": "1916f993-6dfb-4fb2-a592-0fc57f7ea119",
   "metadata": {},
   "outputs": [
    {
     "data": {
      "text/plain": [
       "y\n",
       "no     34015\n",
       "yes     4312\n",
       "Name: count, dtype: int64"
      ]
     },
     "execution_count": 23,
     "metadata": {},
     "output_type": "execute_result"
    }
   ],
   "source": [
    "#verifying the values of the target variable y\n",
    "\n",
    "df_scaled.y.unique()\n",
    "df_scaled.y.value_counts()\n"
   ]
  },
  {
   "cell_type": "code",
   "execution_count": 24,
   "id": "33733b07-dd75-4030-8fea-8b78fcb9f2c3",
   "metadata": {},
   "outputs": [],
   "source": [
    "#as the varaible y is in object/bool format,it should be converted to numeric for our model building\n",
    "\n",
    "convert_to_numeric = lambda x: 1 if x == 'yes' else 0\n",
    "df_scaled['y'] = df_scaled['y'].apply(convert_to_numeric)\n"
   ]
  },
  {
   "cell_type": "code",
   "execution_count": 25,
   "id": "48323466-c34a-4661-bd0f-e5bae94ed7c6",
   "metadata": {},
   "outputs": [
    {
     "data": {
      "text/plain": [
       "array([0, 1], dtype=int64)"
      ]
     },
     "execution_count": 25,
     "metadata": {},
     "output_type": "execute_result"
    }
   ],
   "source": [
    "df_scaled.y.unique()"
   ]
  },
  {
   "cell_type": "code",
   "execution_count": 53,
   "id": "c799cda7-a781-4f25-a1d8-07ce834c10bf",
   "metadata": {},
   "outputs": [
    {
     "data": {
      "text/plain": [
       "y\n",
       "0    34015\n",
       "1     4312\n",
       "Name: count, dtype: int64"
      ]
     },
     "execution_count": 53,
     "metadata": {},
     "output_type": "execute_result"
    }
   ],
   "source": [
    "df_scaled.y.value_counts()\n",
    "\n",
    "#now the variable y has values of 1 and 0 which is adequate for out process"
   ]
  },
  {
   "cell_type": "code",
   "execution_count": 26,
   "id": "41aa6524-0fde-4e55-89d7-e6611ae9e042",
   "metadata": {},
   "outputs": [
    {
     "data": {
      "text/plain": [
       "0        0\n",
       "1        0\n",
       "2        0\n",
       "3        0\n",
       "4        0\n",
       "        ..\n",
       "41181    1\n",
       "41182    0\n",
       "41184    0\n",
       "41185    0\n",
       "41186    1\n",
       "Name: y, Length: 38327, dtype: int64"
      ]
     },
     "execution_count": 26,
     "metadata": {},
     "output_type": "execute_result"
    }
   ],
   "source": [
    "#assigning the target variable y into a value named y\n",
    "\n",
    "y=df_scaled[\"y\"]\n",
    "y"
   ]
  },
  {
   "cell_type": "code",
   "execution_count": 27,
   "id": "eacd177b-ff17-4865-aa10-3b7a74b32eeb",
   "metadata": {},
   "outputs": [
    {
     "data": {
      "text/html": [
       "<div>\n",
       "<style scoped>\n",
       "    .dataframe tbody tr th:only-of-type {\n",
       "        vertical-align: middle;\n",
       "    }\n",
       "\n",
       "    .dataframe tbody tr th {\n",
       "        vertical-align: top;\n",
       "    }\n",
       "\n",
       "    .dataframe thead th {\n",
       "        text-align: right;\n",
       "    }\n",
       "</style>\n",
       "<table border=\"1\" class=\"dataframe\">\n",
       "  <thead>\n",
       "    <tr style=\"text-align: right;\">\n",
       "      <th></th>\n",
       "      <th>age</th>\n",
       "      <th>campaign</th>\n",
       "      <th>pdays</th>\n",
       "      <th>previous</th>\n",
       "      <th>emp.var.rate</th>\n",
       "      <th>cons.price.idx</th>\n",
       "      <th>cons.conf.idx</th>\n",
       "      <th>euribor3m</th>\n",
       "      <th>nr.employed</th>\n",
       "      <th>y</th>\n",
       "      <th>...</th>\n",
       "      <th>month_may</th>\n",
       "      <th>month_nov</th>\n",
       "      <th>month_oct</th>\n",
       "      <th>month_sep</th>\n",
       "      <th>day_of_week_mon</th>\n",
       "      <th>day_of_week_thu</th>\n",
       "      <th>day_of_week_tue</th>\n",
       "      <th>day_of_week_wed</th>\n",
       "      <th>poutcome_nonexistent</th>\n",
       "      <th>poutcome_success</th>\n",
       "    </tr>\n",
       "  </thead>\n",
       "  <tbody>\n",
       "    <tr>\n",
       "      <th>0</th>\n",
       "      <td>1.696605</td>\n",
       "      <td>-0.817406</td>\n",
       "      <td>0.194854</td>\n",
       "      <td>-0.353775</td>\n",
       "      <td>0.661020</td>\n",
       "      <td>0.739769</td>\n",
       "      <td>0.897829</td>\n",
       "      <td>0.721443</td>\n",
       "      <td>0.340610</td>\n",
       "      <td>0</td>\n",
       "      <td>...</td>\n",
       "      <td>1.389477</td>\n",
       "      <td>-0.341026</td>\n",
       "      <td>-0.131038</td>\n",
       "      <td>-0.115783</td>\n",
       "      <td>1.949173</td>\n",
       "      <td>-0.512186</td>\n",
       "      <td>-0.496271</td>\n",
       "      <td>-0.497251</td>\n",
       "      <td>0.401689</td>\n",
       "      <td>-0.185126</td>\n",
       "    </tr>\n",
       "    <tr>\n",
       "      <th>1</th>\n",
       "      <td>1.799917</td>\n",
       "      <td>-0.817406</td>\n",
       "      <td>0.194854</td>\n",
       "      <td>-0.353775</td>\n",
       "      <td>0.661020</td>\n",
       "      <td>0.739769</td>\n",
       "      <td>0.897829</td>\n",
       "      <td>0.721443</td>\n",
       "      <td>0.340610</td>\n",
       "      <td>0</td>\n",
       "      <td>...</td>\n",
       "      <td>1.389477</td>\n",
       "      <td>-0.341026</td>\n",
       "      <td>-0.131038</td>\n",
       "      <td>-0.115783</td>\n",
       "      <td>1.949173</td>\n",
       "      <td>-0.512186</td>\n",
       "      <td>-0.496271</td>\n",
       "      <td>-0.497251</td>\n",
       "      <td>0.401689</td>\n",
       "      <td>-0.185126</td>\n",
       "    </tr>\n",
       "    <tr>\n",
       "      <th>2</th>\n",
       "      <td>-0.266331</td>\n",
       "      <td>-0.817406</td>\n",
       "      <td>0.194854</td>\n",
       "      <td>-0.353775</td>\n",
       "      <td>0.661020</td>\n",
       "      <td>0.739769</td>\n",
       "      <td>0.897829</td>\n",
       "      <td>0.721443</td>\n",
       "      <td>0.340610</td>\n",
       "      <td>0</td>\n",
       "      <td>...</td>\n",
       "      <td>1.389477</td>\n",
       "      <td>-0.341026</td>\n",
       "      <td>-0.131038</td>\n",
       "      <td>-0.115783</td>\n",
       "      <td>1.949173</td>\n",
       "      <td>-0.512186</td>\n",
       "      <td>-0.496271</td>\n",
       "      <td>-0.497251</td>\n",
       "      <td>0.401689</td>\n",
       "      <td>-0.185126</td>\n",
       "    </tr>\n",
       "    <tr>\n",
       "      <th>3</th>\n",
       "      <td>0.043606</td>\n",
       "      <td>-0.817406</td>\n",
       "      <td>0.194854</td>\n",
       "      <td>-0.353775</td>\n",
       "      <td>0.661020</td>\n",
       "      <td>0.739769</td>\n",
       "      <td>0.897829</td>\n",
       "      <td>0.721443</td>\n",
       "      <td>0.340610</td>\n",
       "      <td>0</td>\n",
       "      <td>...</td>\n",
       "      <td>1.389477</td>\n",
       "      <td>-0.341026</td>\n",
       "      <td>-0.131038</td>\n",
       "      <td>-0.115783</td>\n",
       "      <td>1.949173</td>\n",
       "      <td>-0.512186</td>\n",
       "      <td>-0.496271</td>\n",
       "      <td>-0.497251</td>\n",
       "      <td>0.401689</td>\n",
       "      <td>-0.185126</td>\n",
       "    </tr>\n",
       "    <tr>\n",
       "      <th>4</th>\n",
       "      <td>1.696605</td>\n",
       "      <td>-0.817406</td>\n",
       "      <td>0.194854</td>\n",
       "      <td>-0.353775</td>\n",
       "      <td>0.661020</td>\n",
       "      <td>0.739769</td>\n",
       "      <td>0.897829</td>\n",
       "      <td>0.721443</td>\n",
       "      <td>0.340610</td>\n",
       "      <td>0</td>\n",
       "      <td>...</td>\n",
       "      <td>1.389477</td>\n",
       "      <td>-0.341026</td>\n",
       "      <td>-0.131038</td>\n",
       "      <td>-0.115783</td>\n",
       "      <td>1.949173</td>\n",
       "      <td>-0.512186</td>\n",
       "      <td>-0.496271</td>\n",
       "      <td>-0.497251</td>\n",
       "      <td>0.401689</td>\n",
       "      <td>-0.185126</td>\n",
       "    </tr>\n",
       "    <tr>\n",
       "      <th>...</th>\n",
       "      <td>...</td>\n",
       "      <td>...</td>\n",
       "      <td>...</td>\n",
       "      <td>...</td>\n",
       "      <td>...</td>\n",
       "      <td>...</td>\n",
       "      <td>...</td>\n",
       "      <td>...</td>\n",
       "      <td>...</td>\n",
       "      <td>...</td>\n",
       "      <td>...</td>\n",
       "      <td>...</td>\n",
       "      <td>...</td>\n",
       "      <td>...</td>\n",
       "      <td>...</td>\n",
       "      <td>...</td>\n",
       "      <td>...</td>\n",
       "      <td>...</td>\n",
       "      <td>...</td>\n",
       "      <td>...</td>\n",
       "      <td>...</td>\n",
       "    </tr>\n",
       "    <tr>\n",
       "      <th>41181</th>\n",
       "      <td>-0.266331</td>\n",
       "      <td>-0.817406</td>\n",
       "      <td>0.194854</td>\n",
       "      <td>-0.353775</td>\n",
       "      <td>-0.743776</td>\n",
       "      <td>2.081446</td>\n",
       "      <td>-2.219299</td>\n",
       "      <td>-1.489038</td>\n",
       "      <td>-2.832707</td>\n",
       "      <td>1</td>\n",
       "      <td>...</td>\n",
       "      <td>-0.719695</td>\n",
       "      <td>2.932328</td>\n",
       "      <td>-0.131038</td>\n",
       "      <td>-0.115783</td>\n",
       "      <td>-0.513038</td>\n",
       "      <td>-0.512186</td>\n",
       "      <td>-0.496271</td>\n",
       "      <td>-0.497251</td>\n",
       "      <td>0.401689</td>\n",
       "      <td>-0.185126</td>\n",
       "    </tr>\n",
       "    <tr>\n",
       "      <th>41182</th>\n",
       "      <td>-1.092831</td>\n",
       "      <td>-0.817406</td>\n",
       "      <td>-5.116121</td>\n",
       "      <td>1.673001</td>\n",
       "      <td>-0.743776</td>\n",
       "      <td>2.081446</td>\n",
       "      <td>-2.219299</td>\n",
       "      <td>-1.489038</td>\n",
       "      <td>-2.832707</td>\n",
       "      <td>0</td>\n",
       "      <td>...</td>\n",
       "      <td>-0.719695</td>\n",
       "      <td>2.932328</td>\n",
       "      <td>-0.131038</td>\n",
       "      <td>-0.115783</td>\n",
       "      <td>-0.513038</td>\n",
       "      <td>-0.512186</td>\n",
       "      <td>-0.496271</td>\n",
       "      <td>-0.497251</td>\n",
       "      <td>-2.489490</td>\n",
       "      <td>5.401735</td>\n",
       "    </tr>\n",
       "    <tr>\n",
       "      <th>41184</th>\n",
       "      <td>0.663481</td>\n",
       "      <td>-0.817406</td>\n",
       "      <td>0.194854</td>\n",
       "      <td>-0.353775</td>\n",
       "      <td>-0.743776</td>\n",
       "      <td>2.081446</td>\n",
       "      <td>-2.219299</td>\n",
       "      <td>-1.489038</td>\n",
       "      <td>-2.832707</td>\n",
       "      <td>0</td>\n",
       "      <td>...</td>\n",
       "      <td>-0.719695</td>\n",
       "      <td>2.932328</td>\n",
       "      <td>-0.131038</td>\n",
       "      <td>-0.115783</td>\n",
       "      <td>-0.513038</td>\n",
       "      <td>-0.512186</td>\n",
       "      <td>-0.496271</td>\n",
       "      <td>-0.497251</td>\n",
       "      <td>0.401689</td>\n",
       "      <td>-0.185126</td>\n",
       "    </tr>\n",
       "    <tr>\n",
       "      <th>41185</th>\n",
       "      <td>1.696605</td>\n",
       "      <td>-0.037367</td>\n",
       "      <td>0.194854</td>\n",
       "      <td>-0.353775</td>\n",
       "      <td>-0.743776</td>\n",
       "      <td>2.081446</td>\n",
       "      <td>-2.219299</td>\n",
       "      <td>-1.489038</td>\n",
       "      <td>-2.832707</td>\n",
       "      <td>0</td>\n",
       "      <td>...</td>\n",
       "      <td>-0.719695</td>\n",
       "      <td>2.932328</td>\n",
       "      <td>-0.131038</td>\n",
       "      <td>-0.115783</td>\n",
       "      <td>-0.513038</td>\n",
       "      <td>-0.512186</td>\n",
       "      <td>-0.496271</td>\n",
       "      <td>-0.497251</td>\n",
       "      <td>0.401689</td>\n",
       "      <td>-0.185126</td>\n",
       "    </tr>\n",
       "    <tr>\n",
       "      <th>41186</th>\n",
       "      <td>0.456856</td>\n",
       "      <td>-0.817406</td>\n",
       "      <td>0.194854</td>\n",
       "      <td>-0.353775</td>\n",
       "      <td>-0.743776</td>\n",
       "      <td>2.081446</td>\n",
       "      <td>-2.219299</td>\n",
       "      <td>-1.489038</td>\n",
       "      <td>-2.832707</td>\n",
       "      <td>1</td>\n",
       "      <td>...</td>\n",
       "      <td>-0.719695</td>\n",
       "      <td>2.932328</td>\n",
       "      <td>-0.131038</td>\n",
       "      <td>-0.115783</td>\n",
       "      <td>-0.513038</td>\n",
       "      <td>-0.512186</td>\n",
       "      <td>-0.496271</td>\n",
       "      <td>-0.497251</td>\n",
       "      <td>0.401689</td>\n",
       "      <td>-0.185126</td>\n",
       "    </tr>\n",
       "  </tbody>\n",
       "</table>\n",
       "<p>38327 rows × 53 columns</p>\n",
       "</div>"
      ],
      "text/plain": [
       "            age  campaign     pdays  previous  emp.var.rate  cons.price.idx  \\\n",
       "0      1.696605 -0.817406  0.194854 -0.353775      0.661020        0.739769   \n",
       "1      1.799917 -0.817406  0.194854 -0.353775      0.661020        0.739769   \n",
       "2     -0.266331 -0.817406  0.194854 -0.353775      0.661020        0.739769   \n",
       "3      0.043606 -0.817406  0.194854 -0.353775      0.661020        0.739769   \n",
       "4      1.696605 -0.817406  0.194854 -0.353775      0.661020        0.739769   \n",
       "...         ...       ...       ...       ...           ...             ...   \n",
       "41181 -0.266331 -0.817406  0.194854 -0.353775     -0.743776        2.081446   \n",
       "41182 -1.092831 -0.817406 -5.116121  1.673001     -0.743776        2.081446   \n",
       "41184  0.663481 -0.817406  0.194854 -0.353775     -0.743776        2.081446   \n",
       "41185  1.696605 -0.037367  0.194854 -0.353775     -0.743776        2.081446   \n",
       "41186  0.456856 -0.817406  0.194854 -0.353775     -0.743776        2.081446   \n",
       "\n",
       "       cons.conf.idx  euribor3m  nr.employed  y  ...  month_may  month_nov  \\\n",
       "0           0.897829   0.721443     0.340610  0  ...   1.389477  -0.341026   \n",
       "1           0.897829   0.721443     0.340610  0  ...   1.389477  -0.341026   \n",
       "2           0.897829   0.721443     0.340610  0  ...   1.389477  -0.341026   \n",
       "3           0.897829   0.721443     0.340610  0  ...   1.389477  -0.341026   \n",
       "4           0.897829   0.721443     0.340610  0  ...   1.389477  -0.341026   \n",
       "...              ...        ...          ... ..  ...        ...        ...   \n",
       "41181      -2.219299  -1.489038    -2.832707  1  ...  -0.719695   2.932328   \n",
       "41182      -2.219299  -1.489038    -2.832707  0  ...  -0.719695   2.932328   \n",
       "41184      -2.219299  -1.489038    -2.832707  0  ...  -0.719695   2.932328   \n",
       "41185      -2.219299  -1.489038    -2.832707  0  ...  -0.719695   2.932328   \n",
       "41186      -2.219299  -1.489038    -2.832707  1  ...  -0.719695   2.932328   \n",
       "\n",
       "       month_oct  month_sep  day_of_week_mon  day_of_week_thu  \\\n",
       "0      -0.131038  -0.115783         1.949173        -0.512186   \n",
       "1      -0.131038  -0.115783         1.949173        -0.512186   \n",
       "2      -0.131038  -0.115783         1.949173        -0.512186   \n",
       "3      -0.131038  -0.115783         1.949173        -0.512186   \n",
       "4      -0.131038  -0.115783         1.949173        -0.512186   \n",
       "...          ...        ...              ...              ...   \n",
       "41181  -0.131038  -0.115783        -0.513038        -0.512186   \n",
       "41182  -0.131038  -0.115783        -0.513038        -0.512186   \n",
       "41184  -0.131038  -0.115783        -0.513038        -0.512186   \n",
       "41185  -0.131038  -0.115783        -0.513038        -0.512186   \n",
       "41186  -0.131038  -0.115783        -0.513038        -0.512186   \n",
       "\n",
       "       day_of_week_tue  day_of_week_wed  poutcome_nonexistent  \\\n",
       "0            -0.496271        -0.497251              0.401689   \n",
       "1            -0.496271        -0.497251              0.401689   \n",
       "2            -0.496271        -0.497251              0.401689   \n",
       "3            -0.496271        -0.497251              0.401689   \n",
       "4            -0.496271        -0.497251              0.401689   \n",
       "...                ...              ...                   ...   \n",
       "41181        -0.496271        -0.497251              0.401689   \n",
       "41182        -0.496271        -0.497251             -2.489490   \n",
       "41184        -0.496271        -0.497251              0.401689   \n",
       "41185        -0.496271        -0.497251              0.401689   \n",
       "41186        -0.496271        -0.497251              0.401689   \n",
       "\n",
       "       poutcome_success  \n",
       "0             -0.185126  \n",
       "1             -0.185126  \n",
       "2             -0.185126  \n",
       "3             -0.185126  \n",
       "4             -0.185126  \n",
       "...                 ...  \n",
       "41181         -0.185126  \n",
       "41182          5.401735  \n",
       "41184         -0.185126  \n",
       "41185         -0.185126  \n",
       "41186         -0.185126  \n",
       "\n",
       "[38327 rows x 53 columns]"
      ]
     },
     "execution_count": 27,
     "metadata": {},
     "output_type": "execute_result"
    }
   ],
   "source": [
    "df_scaled"
   ]
  },
  {
   "cell_type": "code",
   "execution_count": 28,
   "id": "e579f5ab-4ad4-4eca-b130-6434a6d372f9",
   "metadata": {},
   "outputs": [
    {
     "data": {
      "text/plain": [
       "Index(['age', 'campaign', 'pdays', 'previous', 'emp.var.rate',\n",
       "       'cons.price.idx', 'cons.conf.idx', 'euribor3m', 'nr.employed', 'y',\n",
       "       'job_blue-collar', 'job_entrepreneur', 'job_housemaid',\n",
       "       'job_management', 'job_retired', 'job_self-employed', 'job_services',\n",
       "       'job_student', 'job_technician', 'job_unemployed', 'job_unknown',\n",
       "       'marital_married', 'marital_single', 'marital_unknown',\n",
       "       'education_basic.6y', 'education_basic.9y', 'education_high.school',\n",
       "       'education_illiterate', 'education_professional.course',\n",
       "       'education_university.degree', 'education_unknown', 'default_unknown',\n",
       "       'default_yes', 'housing_unknown', 'housing_yes', 'loan_unknown',\n",
       "       'loan_yes', 'contact_telephone', 'month_aug', 'month_dec', 'month_jul',\n",
       "       'month_jun', 'month_mar', 'month_may', 'month_nov', 'month_oct',\n",
       "       'month_sep', 'day_of_week_mon', 'day_of_week_thu', 'day_of_week_tue',\n",
       "       'day_of_week_wed', 'poutcome_nonexistent', 'poutcome_success'],\n",
       "      dtype='object')"
      ]
     },
     "execution_count": 28,
     "metadata": {},
     "output_type": "execute_result"
    }
   ],
   "source": [
    "df_scaled.columns"
   ]
  },
  {
   "cell_type": "code",
   "execution_count": 29,
   "id": "e4486b44-d460-4c46-bb6c-f25fa9d3a760",
   "metadata": {},
   "outputs": [],
   "source": [
    "#Assigning all the independent variables into x\n",
    "\n",
    "x=df_scaled[['age', 'campaign', 'pdays', 'previous', 'emp.var.rate',\n",
    "       'cons.price.idx', 'cons.conf.idx', 'euribor3m', 'nr.employed', \n",
    "       'job_blue-collar', 'job_entrepreneur', 'job_housemaid',\n",
    "       'job_management', 'job_retired', 'job_self-employed', 'job_services',\n",
    "       'job_student', 'job_technician', 'job_unemployed', 'job_unknown',\n",
    "       'marital_married', 'marital_single', 'marital_unknown',\n",
    "       'education_basic.6y', 'education_basic.9y', 'education_high.school',\n",
    "       'education_illiterate', 'education_professional.course',\n",
    "       'education_university.degree', 'education_unknown', 'default_unknown',\n",
    "       'default_yes', 'housing_unknown', 'housing_yes', 'loan_unknown',\n",
    "       'loan_yes', 'contact_telephone', 'month_aug', 'month_dec', 'month_jul',\n",
    "       'month_jun', 'month_mar', 'month_may', 'month_nov', 'month_oct',\n",
    "       'month_sep', 'day_of_week_mon', 'day_of_week_thu', 'day_of_week_tue',\n",
    "       'day_of_week_wed', 'poutcome_nonexistent', 'poutcome_success']]"
   ]
  },
  {
   "cell_type": "code",
   "execution_count": 30,
   "id": "f7b020ec-def5-428d-bcbe-a8245239fa48",
   "metadata": {},
   "outputs": [
    {
     "data": {
      "text/plain": [
       "(38327, 52)"
      ]
     },
     "execution_count": 30,
     "metadata": {},
     "output_type": "execute_result"
    }
   ],
   "source": [
    "x.shape"
   ]
  },
  {
   "cell_type": "markdown",
   "id": "e4ca5c9e-33a3-4d19-8768-585dbedf8971",
   "metadata": {},
   "source": [
    "## Performing resampling \n",
    "\n"
   ]
  },
  {
   "cell_type": "code",
   "execution_count": 31,
   "id": "d5786677-1055-4ca2-8674-0266bd8c2143",
   "metadata": {},
   "outputs": [
    {
     "data": {
      "text/plain": [
       "((68030, 52),\n",
       " (68030,),\n",
       " y\n",
       " 0    34015\n",
       " 1    34015\n",
       " Name: count, dtype: int64)"
      ]
     },
     "execution_count": 31,
     "metadata": {},
     "output_type": "execute_result"
    }
   ],
   "source": [
    "#As the data has a non uniform sample,we need to perform a resampling to address this issue.We use SMOTE from imblearn for this process\n",
    "\n",
    "smote=SMOTE(random_state=42)\n",
    "X1,Y1=smote.fit_resample(x,y)\n",
    "X1.shape,Y1.shape,Y1.value_counts()"
   ]
  },
  {
   "cell_type": "code",
   "execution_count": null,
   "id": "04b64031-0511-4e20-861e-21232d22f2c7",
   "metadata": {},
   "outputs": [],
   "source": [
    "#now the target variable is sampled uniformly"
   ]
  },
  {
   "cell_type": "markdown",
   "id": "62443777-13c3-40e7-98c2-55b69dae565f",
   "metadata": {},
   "source": [
    "## Splitting the data into training and testing data"
   ]
  },
  {
   "cell_type": "code",
   "execution_count": 32,
   "id": "65d84a2f-a84b-47d6-928d-726e387c1390",
   "metadata": {},
   "outputs": [],
   "source": [
    "#using sklearn train_test_split method we splitted the data into training and testing data\n",
    "\n",
    "X_train,X_test,y_train,y_test=train_test_split(X1,Y1,test_size=0.2)"
   ]
  },
  {
   "cell_type": "code",
   "execution_count": 33,
   "id": "9b60c16b-a8f6-47ef-bbc2-72ef136ab945",
   "metadata": {},
   "outputs": [
    {
     "data": {
      "text/plain": [
       "(54424, 52)"
      ]
     },
     "execution_count": 33,
     "metadata": {},
     "output_type": "execute_result"
    }
   ],
   "source": [
    "X_train.shape"
   ]
  },
  {
   "cell_type": "code",
   "execution_count": 34,
   "id": "8a910d36-b930-4fb8-898b-85c3e69bc743",
   "metadata": {
    "scrolled": true
   },
   "outputs": [
    {
     "data": {
      "text/plain": [
       "(13606, 52)"
      ]
     },
     "execution_count": 34,
     "metadata": {},
     "output_type": "execute_result"
    }
   ],
   "source": [
    "X_test.shape"
   ]
  },
  {
   "cell_type": "markdown",
   "id": "45daa4fd-9795-4d67-8bf4-168010d2d433",
   "metadata": {},
   "source": [
    "## Implementing a Hyper parameter tuning process on Logistic Regression,Random Forest Classifier and Decision Tree Classifier to find the best model and finding the accuracy score"
   ]
  },
  {
   "cell_type": "code",
   "execution_count": 42,
   "id": "4c7c7199-973e-46d7-8dcc-98afd43ef1b5",
   "metadata": {},
   "outputs": [],
   "source": [
    "#specifying the models that is used for hpt\n",
    "\n",
    "models = {\n",
    "   \n",
    "    \n",
    "    'Logistic Regression':LogisticRegression(),\n",
    "    'Random Forest Classifier': RandomForestClassifier(),\n",
    "    'Decision Tree Classifier': DecisionTreeClassifier(),\n",
    "    \n",
    "}\n",
    "\n"
   ]
  },
  {
   "cell_type": "code",
   "execution_count": 43,
   "id": "25f64b7b-1fda-478f-8b7f-85a311b82ace",
   "metadata": {},
   "outputs": [],
   "source": [
    "#specifying the parameters for the models\n",
    "\n",
    "params = {\n",
    "    \n",
    "    \n",
    "    'Logistic Regression' : {'C':[1,5,10,50]},\n",
    "    'Random Forest Classifier': {'n_estimators': [0, 10, 50, 100, 200]},\n",
    "    'Decision Tree Classifier': {'max_depth': [None, 10, 20, 30, 50]},\n",
    "   \n",
    "}"
   ]
  },
  {
   "cell_type": "code",
   "execution_count": 44,
   "id": "81954626-6918-4e80-9f04-a7223d58b447",
   "metadata": {},
   "outputs": [],
   "source": [
    "results = []"
   ]
  },
  {
   "cell_type": "code",
   "execution_count": 45,
   "id": "9e48cd3b-0d62-422d-9d39-69bb754318e7",
   "metadata": {},
   "outputs": [
    {
     "name": "stderr",
     "output_type": "stream",
     "text": [
      "C:\\Users\\HARIHARAN\\AppData\\Local\\Programs\\Python\\Python311\\Lib\\site-packages\\sklearn\\model_selection\\_validation.py:547: FitFailedWarning: \n",
      "5 fits failed out of a total of 25.\n",
      "The score on these train-test partitions for these parameters will be set to nan.\n",
      "If these failures are not expected, you can try to debug them by setting error_score='raise'.\n",
      "\n",
      "Below are more details about the failures:\n",
      "--------------------------------------------------------------------------------\n",
      "5 fits failed with the following error:\n",
      "Traceback (most recent call last):\n",
      "  File \"C:\\Users\\HARIHARAN\\AppData\\Local\\Programs\\Python\\Python311\\Lib\\site-packages\\sklearn\\model_selection\\_validation.py\", line 895, in _fit_and_score\n",
      "    estimator.fit(X_train, y_train, **fit_params)\n",
      "  File \"C:\\Users\\HARIHARAN\\AppData\\Local\\Programs\\Python\\Python311\\Lib\\site-packages\\sklearn\\base.py\", line 1467, in wrapper\n",
      "    estimator._validate_params()\n",
      "  File \"C:\\Users\\HARIHARAN\\AppData\\Local\\Programs\\Python\\Python311\\Lib\\site-packages\\sklearn\\base.py\", line 666, in _validate_params\n",
      "    validate_parameter_constraints(\n",
      "  File \"C:\\Users\\HARIHARAN\\AppData\\Local\\Programs\\Python\\Python311\\Lib\\site-packages\\sklearn\\utils\\_param_validation.py\", line 95, in validate_parameter_constraints\n",
      "    raise InvalidParameterError(\n",
      "sklearn.utils._param_validation.InvalidParameterError: The 'n_estimators' parameter of RandomForestClassifier must be an int in the range [1, inf). Got 0 instead.\n",
      "\n",
      "  warnings.warn(some_fits_failed_message, FitFailedWarning)\n",
      "C:\\Users\\HARIHARAN\\AppData\\Local\\Programs\\Python\\Python311\\Lib\\site-packages\\sklearn\\model_selection\\_search.py:1051: UserWarning: One or more of the test scores are non-finite: [       nan 0.93126194 0.93679259 0.93761941 0.93831766]\n",
      "  warnings.warn(\n"
     ]
    }
   ],
   "source": [
    "#using sklearn's gridsreachCV,each of the model with the given parameter are tested and the accuracy score for the model with the best parameter is appended into the results list\n",
    "\n",
    "\n",
    "from sklearn.model_selection import GridSearchCV\n",
    "for model_name, model in models.items():\n",
    "    grid_search = GridSearchCV(model, params[model_name], cv=5, scoring='accuracy')\n",
    "    grid_search.fit(X_train, y_train)\n",
    "    \n",
    "    # Get the results\n",
    "    best_params = grid_search.best_params_\n",
    "    best_score = grid_search.best_score_\n",
    "    test_accuracy = accuracy_score(y_test, grid_search.predict(X_test))\n",
    "    \n",
    "    # Append results to list\n",
    "    results.append({\n",
    "        'Model': model_name,\n",
    "        'Best Parameters': best_params,\n",
    "        'Best Cross-Validation Score': best_score,\n",
    "        'Test Accuracy': test_accuracy\n",
    "    })"
   ]
  },
  {
   "cell_type": "code",
   "execution_count": 47,
   "id": "da2d7993-878e-4c0c-8c52-2d4614b0f622",
   "metadata": {},
   "outputs": [
    {
     "data": {
      "text/html": [
       "<div>\n",
       "<style scoped>\n",
       "    .dataframe tbody tr th:only-of-type {\n",
       "        vertical-align: middle;\n",
       "    }\n",
       "\n",
       "    .dataframe tbody tr th {\n",
       "        vertical-align: top;\n",
       "    }\n",
       "\n",
       "    .dataframe thead th {\n",
       "        text-align: right;\n",
       "    }\n",
       "</style>\n",
       "<table border=\"1\" class=\"dataframe\">\n",
       "  <thead>\n",
       "    <tr style=\"text-align: right;\">\n",
       "      <th></th>\n",
       "      <th>Model</th>\n",
       "      <th>Best Parameters</th>\n",
       "      <th>Best Cross-Validation Score</th>\n",
       "      <th>Test Accuracy</th>\n",
       "    </tr>\n",
       "  </thead>\n",
       "  <tbody>\n",
       "    <tr>\n",
       "      <th>0</th>\n",
       "      <td>Logistic Regression</td>\n",
       "      <td>{'C': 50}</td>\n",
       "      <td>0.742191</td>\n",
       "      <td>0.733426</td>\n",
       "    </tr>\n",
       "    <tr>\n",
       "      <th>1</th>\n",
       "      <td>Random Forest Classifier</td>\n",
       "      <td>{'n_estimators': 200}</td>\n",
       "      <td>0.938318</td>\n",
       "      <td>0.940173</td>\n",
       "    </tr>\n",
       "    <tr>\n",
       "      <th>2</th>\n",
       "      <td>Decision Tree Classifier</td>\n",
       "      <td>{'max_depth': 20}</td>\n",
       "      <td>0.903407</td>\n",
       "      <td>0.905924</td>\n",
       "    </tr>\n",
       "  </tbody>\n",
       "</table>\n",
       "</div>"
      ],
      "text/plain": [
       "                      Model        Best Parameters  \\\n",
       "0       Logistic Regression              {'C': 50}   \n",
       "1  Random Forest Classifier  {'n_estimators': 200}   \n",
       "2  Decision Tree Classifier      {'max_depth': 20}   \n",
       "\n",
       "   Best Cross-Validation Score  Test Accuracy  \n",
       "0                     0.742191       0.733426  \n",
       "1                     0.938318       0.940173  \n",
       "2                     0.903407       0.905924  "
      ]
     },
     "execution_count": 47,
     "metadata": {},
     "output_type": "execute_result"
    }
   ],
   "source": [
    "results_df = pd.DataFrame(results)\n",
    "results_df"
   ]
  },
  {
   "cell_type": "markdown",
   "id": "a7937d0c-24b8-4197-ad9e-0536c11b8764",
   "metadata": {},
   "source": [
    "#### Random Forest Classifier with n estimator value of 200 has given the best score so it is implemented"
   ]
  },
  {
   "cell_type": "code",
   "execution_count": 50,
   "id": "44ce27f9-5c42-430d-be04-4d2bab1e80a6",
   "metadata": {},
   "outputs": [
    {
     "data": {
      "text/plain": [
       "0.9387035131559606"
      ]
     },
     "execution_count": 50,
     "metadata": {},
     "output_type": "execute_result"
    }
   ],
   "source": [
    "#creating a random forest classifier object and fitting the model with the training data\n",
    "\n",
    "rfc=RandomForestClassifier()\n",
    "model=rfc.fit(X_train,y_train)\n",
    "\n",
    "#using the testing data the prediction process is executed\n",
    "y_pred=model.predict(X_test)\n",
    "y_pred\n",
    "\n",
    "#the accuracy score is checked and it gave the same score from the hpt process \n",
    "score=accuracy_score(y_test,y_pred)\n",
    "score\n"
   ]
  },
  {
   "cell_type": "code",
   "execution_count": 51,
   "id": "91952962-3ede-4523-a38f-98e21e55222b",
   "metadata": {},
   "outputs": [
    {
     "name": "stdout",
     "output_type": "stream",
     "text": [
      "              precision    recall  f1-score   support\n",
      "\n",
      "           0       0.93      0.95      0.94      6826\n",
      "           1       0.94      0.93      0.94      6780\n",
      "\n",
      "    accuracy                           0.94     13606\n",
      "   macro avg       0.94      0.94      0.94     13606\n",
      "weighted avg       0.94      0.94      0.94     13606\n",
      "\n"
     ]
    }
   ],
   "source": [
    "#the report of the model is printed using sklearn classification report\n",
    "\n",
    "print(classification_report(y_test,y_pred))"
   ]
  },
  {
   "cell_type": "code",
   "execution_count": null,
   "id": "8ee5c692-bb9d-40fb-8892-98b3333e2148",
   "metadata": {},
   "outputs": [],
   "source": []
  },
  {
   "cell_type": "code",
   "execution_count": null,
   "id": "73db2d77-6f36-4f42-9a17-45899ce8c47b",
   "metadata": {},
   "outputs": [],
   "source": []
  },
  {
   "cell_type": "code",
   "execution_count": null,
   "id": "69cbb8c1-b268-46c9-b1b2-2f253621da5e",
   "metadata": {},
   "outputs": [],
   "source": []
  }
 ],
 "metadata": {
  "kernelspec": {
   "display_name": "Python 3 (ipykernel)",
   "language": "python",
   "name": "python3"
  },
  "language_info": {
   "codemirror_mode": {
    "name": "ipython",
    "version": 3
   },
   "file_extension": ".py",
   "mimetype": "text/x-python",
   "name": "python",
   "nbconvert_exporter": "python",
   "pygments_lexer": "ipython3",
   "version": "3.11.5"
  }
 },
 "nbformat": 4,
 "nbformat_minor": 5
}
